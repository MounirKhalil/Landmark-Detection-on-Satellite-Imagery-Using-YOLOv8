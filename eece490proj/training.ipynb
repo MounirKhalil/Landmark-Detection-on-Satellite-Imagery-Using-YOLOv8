{
 "cells": [
  {
   "cell_type": "markdown",
   "id": "ed704d30",
   "metadata": {},
   "source": [
    "**ATTENTION: TO BE ABLE TO RUN ANY OF THE BELOW CODE --->>>> THE 'eece490proj' FOLDER SHOULD BE PLACED DIRECTLY IN THE C: FOLDER OF THE PC**"
   ]
  },
  {
   "cell_type": "markdown",
   "id": "0e8c29d3",
   "metadata": {},
   "source": [
    "**PLEASE DOWNLOAD THE LIBRARIES FOUND IN THE requirements.txt FILE**"
   ]
  },
  {
   "cell_type": "markdown",
   "id": "582b6768",
   "metadata": {},
   "source": [
    "**THIS IS THE TRAINING CODE .... THE INFERENCE CODE IS 'inference.ipynb'**"
   ]
  },
  {
   "cell_type": "markdown",
   "id": "89909490",
   "metadata": {},
   "source": [
    "**FIRST CODE: IT'S JUST FOR CONVERTING ANNOTATIONS FROM ONE SINGLE .GEOJSON FILE -> TO .TXT FILES FOR EACH IMAGE IN THE DATASET**\n",
    "\n",
    "NO NEED TO RUN IT BECAUSE WE SUCCESSFULLY DID THE CONVERSION\n",
    "\n",
    "CONTEXT: THE DATASET HAD 'xView_train.geojson' as one label file so we converted it to YOLO annotations format"
   ]
  },
  {
   "cell_type": "code",
   "execution_count": null,
   "id": "1378fe95-dc97-43a7-9e14-7aa5aa6a7d15",
   "metadata": {},
   "outputs": [],
   "source": [
    "#-----------------------------------------------------WE ALREADY DID THE CONVERSION AND PROVIDED THE CONVERTED VERSION--------------------------------------------------\n",
    "#\n",
    "#\n",
    "#RESULT AFTER RUNNING:IN THE xView Folder YOU SHOULD SEE AN IMAGES FOLDER WITH TRAINING AND \n",
    "#VALIDATION FOLDERS COTAINING .tif IMAGES, AND 2 autosplit_train & val TXT FILES AND YOU SHOULD \n",
    "#SEE IN THE xView FOLDER A FOLDER CALLED LABELS THAT HAS A TRAIN FOLDER THAT CONTAINS TXT FILES\n",
    "\n",
    "'''\n",
    "\n",
    "import json\n",
    "import os\n",
    "from pathlib import Path\n",
    "\n",
    "import numpy as np\n",
    "from PIL import Image\n",
    "from tqdm import tqdm\n",
    "from ultralytics.data.utils import autosplit\n",
    "from ultralytics.utils.ops import xyxy2xywhn\n",
    "\n",
    "\n",
    "def convert_labels(fname=Path('xView')):\n",
    "  # Convert xView geoJSON labels to YOLO format\n",
    "  path = fname.parent\n",
    "  with open(fname) as f:\n",
    "      print(f'Loading {fname}...')\n",
    "      data = json.load(f)\n",
    "  print(path)\n",
    "  # Make dirs\n",
    "  labels = Path(path / 'labels' / 'train')\n",
    "  os.system(f'rm -rf {labels}')\n",
    "  labels.mkdir(parents=True, exist_ok=True)\n",
    "\n",
    "  # xView classes 11-94 to 0-59\n",
    "  xview_class2index = [-1, -1, -1, -1, -1, -1, -1, -1, -1, -1, -1, 0, 1, 2, -1, 3, -1, 4, 5, 6, 7, 8, -1, 9, 10, 11,\n",
    "                       12, 13, 14, 15, -1, -1, 16, 17, 18, 19, 20, 21, 22, -1, 23, 24, 25, -1, 26, 27, -1, 28, -1,\n",
    "                       29, 30, 31, 32, 33, 34, 35, 36, 37, -1, 38, 39, 40, 41, 42, 43, 44, 45, -1, -1, -1, -1, 46,\n",
    "                       47, 48, 49, -1, 50, 51, -1, 52, -1, -1, -1, 53, 54, -1, 55, -1, -1, 56, -1, 57, -1, 58, 59]\n",
    "\n",
    "  shapes = {}\n",
    "  for feature in tqdm(data['features'], desc=f'Converting {fname}'):\n",
    "      p = feature['properties']\n",
    "      if p['bounds_imcoords']:\n",
    "          id = p['image_id']\n",
    "          file = Path(path / 'images' / 'train' / id)\n",
    "          if file.exists():  # 1395.tif missing\n",
    "              try:\n",
    "                  box = np.array([int(num) for num in p['bounds_imcoords'].split(\",\")])\n",
    "                  assert box.shape[0] == 4, f'incorrect box shape {box.shape[0]}'\n",
    "                  cls = p['type_id']\n",
    "                  cls = xview_class2index[int(cls)]  # xView class to 0-60\n",
    "                  assert 59 >= cls >= 0, f'incorrect class index {cls}'\n",
    "\n",
    "                  # Write YOLO label\n",
    "                  if id not in shapes:\n",
    "                      shapes[id] = Image.open(file).size\n",
    "                  box = xyxy2xywhn(box[None].astype(float), w=shapes[id][0], h=shapes[id][1], clip=True)\n",
    "                  with open((labels / id).with_suffix('.txt'), 'a') as f:\n",
    "                      f.write(f\"{cls} {' '.join(f'{x:.6f}' for x in box[0])}\\n\")  # write label.txt\n",
    "\n",
    "              except Exception as e:\n",
    "                  print(f'WARNING: skipping one label for {file}: {e}')\n",
    "\n",
    "dir = Path('xView')  # dataset root dir\n",
    "# Download manually from https://challenge.xviewdataset.org(only uncomment the below if you do not have the data)\n",
    "# urls = ['https://d307kc0mrhucc3.cloudfront.net/train_labels.zip',  # train labels\n",
    "#         'https://d307kc0mrhucc3.cloudfront.net/train_images.zip',  # 15G, 847 train images\n",
    "#         'https://d307kc0mrhucc3.cloudfront.net/val_images.zip']  # 5G, 282 val images (no labels)\n",
    "# download(urls, dir=dir)\n",
    "\n",
    "# Convert labels\n",
    "convert_labels(dir / 'xView_train.geojson')\n",
    "\n",
    "# Move images\n",
    "images = Path(dir / 'images')\n",
    "images.mkdir(parents=True, exist_ok=True)\n",
    "Path(dir / 'train_images').rename(dir / 'images' / 'train')\n",
    "Path(dir / 'val_images').rename(dir / 'images' / 'val')\n",
    "\n",
    "# Split\n",
    "autosplit(dir / 'images' / 'train')\n",
    "\n",
    "'''"
   ]
  },
  {
   "cell_type": "markdown",
   "id": "fe71f1de",
   "metadata": {},
   "source": [
    "**HERE WE CHECK IF CUDA IS PROPERLY CONFIGURED. WE SHOULD FIRST SEE THE VERSION OF CUDA**"
   ]
  },
  {
   "cell_type": "code",
   "execution_count": 1,
   "id": "eac761d8-ab9c-485a-b813-2ac41bb07ec7",
   "metadata": {},
   "outputs": [
    {
     "name": "stdout",
     "output_type": "stream",
     "text": [
      "nvcc: NVIDIA (R) Cuda compiler driver\n",
      "Copyright (c) 2005-2023 NVIDIA Corporation\n",
      "Built on Wed_Feb__8_05:53:42_Coordinated_Universal_Time_2023\n",
      "Cuda compilation tools, release 12.1, V12.1.66\n",
      "Build cuda_12.1.r12.1/compiler.32415258_0\n",
      "\n",
      "\n",
      "2.2.0+cu121\n",
      "\n",
      "\n",
      "cuda\n"
     ]
    }
   ],
   "source": [
    "#HERE WE CHECK IF CUDA IS PROPERLY CONFIGURED. WE SHOULD FIRST SEE THE VERSION OF CUDA. \n",
    "#!pip install ultralytics #IF ANY ERROR UNCOMMENT AND TRY THIS\n",
    "from ultralytics import YOLO\n",
    "import torch\n",
    "import torchvision\n",
    "import torchaudio\n",
    "\n",
    "!nvcc --version\n",
    "print(\"\\n\")\n",
    "#THEN CHECK IF TORCH SUPPORTS CUDA. U SHOULD SEE cudaVersion+cu121 for Cuda 12.1\n",
    "print(torch.__version__)\n",
    "print(\"\\n\")\n",
    "#THEN CHECK IF TORCH CAN DETECT GPUS. IF CPU IS PRINTED THEN CUDA CANNOT DETECT GPU\n",
    "device = torch.device('cuda' if torch.cuda.is_available() else 'cpu')\n",
    "print(device)\n"
   ]
  },
  {
   "cell_type": "markdown",
   "id": "36038ee2",
   "metadata": {},
   "source": [
    "**HERE IS THE TRAINING CODE**"
   ]
  },
  {
   "cell_type": "code",
   "execution_count": 3,
   "id": "76f7ef2c-cac4-40d8-aa5f-ad3541bf6c2f",
   "metadata": {
    "scrolled": true
   },
   "outputs": [
    {
     "name": "stdout",
     "output_type": "stream",
     "text": [
      "total layers: 304, trainable layers: 49, percentage: 16.11842105263158%\n",
      "Ultralytics YOLOv8.2.2  Python-3.12.2 torch-2.2.0+cu121 CUDA:0 (NVIDIA GeForce RTX 4080 Laptop GPU, 12282MiB)\n",
      "\u001b[34m\u001b[1mengine\\trainer: \u001b[0mtask=detect, mode=train, model=yolov8l.pt, data=C://eece490proj//xView//xView.yaml, epochs=15, time=None, patience=100, batch=4, imgsz=960, save=True, save_period=-1, cache=False, device=0, workers=8, project=C://eece490proj//xView//YoloTrainingOutput, name=train17, exist_ok=False, pretrained=True, optimizer=auto, verbose=True, seed=0, deterministic=True, single_cls=False, rect=False, cos_lr=False, close_mosaic=10, resume=False, amp=True, fraction=1.0, profile=False, freeze=None, multi_scale=False, overlap_mask=True, mask_ratio=4, dropout=0.0, val=True, split=val, save_json=False, save_hybrid=False, conf=None, iou=0.7, max_det=300, half=False, dnn=False, plots=True, source=None, vid_stride=1, stream_buffer=False, visualize=False, augment=False, agnostic_nms=False, classes=None, retina_masks=False, embed=None, show=False, save_frames=False, save_txt=False, save_conf=False, save_crop=False, show_labels=True, show_conf=True, show_boxes=True, line_width=None, format=torchscript, keras=False, optimize=False, int8=False, dynamic=False, simplify=False, opset=None, workspace=4, nms=False, lr0=0.01, lrf=0.01, momentum=0.937, weight_decay=0.0005, warmup_epochs=3.0, warmup_momentum=0.8, warmup_bias_lr=0.1, box=7.5, cls=0.5, dfl=1.5, pose=12.0, kobj=1.0, label_smoothing=0.0, nbs=64, hsv_h=0.015, hsv_s=0.7, hsv_v=0.4, degrees=0.0, translate=0.1, scale=0.5, shear=0.0, perspective=0.0, flipud=0.0, fliplr=0.5, bgr=0.0, mosaic=1.0, mixup=0.0, copy_paste=0.0, auto_augment=randaugment, erasing=0.4, crop_fraction=1.0, cfg=None, tracker=botsort.yaml, save_dir=C:\\eece490proj\\xView\\YoloTrainingOutput\\train17\n",
      "Overriding model.yaml nc=80 with nc=60\n",
      "\n",
      "                   from  n    params  module                                       arguments                     \n",
      "  0                  -1  1      1856  ultralytics.nn.modules.conv.Conv             [3, 64, 3, 2]                 \n",
      "  1                  -1  1     73984  ultralytics.nn.modules.conv.Conv             [64, 128, 3, 2]               \n",
      "  2                  -1  3    279808  ultralytics.nn.modules.block.C2f             [128, 128, 3, True]           \n",
      "  3                  -1  1    295424  ultralytics.nn.modules.conv.Conv             [128, 256, 3, 2]              \n",
      "  4                  -1  6   2101248  ultralytics.nn.modules.block.C2f             [256, 256, 6, True]           \n",
      "  5                  -1  1   1180672  ultralytics.nn.modules.conv.Conv             [256, 512, 3, 2]              \n",
      "  6                  -1  6   8396800  ultralytics.nn.modules.block.C2f             [512, 512, 6, True]           \n",
      "  7                  -1  1   2360320  ultralytics.nn.modules.conv.Conv             [512, 512, 3, 2]              \n",
      "  8                  -1  3   4461568  ultralytics.nn.modules.block.C2f             [512, 512, 3, True]           \n",
      "  9                  -1  1    656896  ultralytics.nn.modules.block.SPPF            [512, 512, 5]                 \n",
      " 10                  -1  1         0  torch.nn.modules.upsampling.Upsample         [None, 2, 'nearest']          \n",
      " 11             [-1, 6]  1         0  ultralytics.nn.modules.conv.Concat           [1]                           \n",
      " 12                  -1  3   4723712  ultralytics.nn.modules.block.C2f             [1024, 512, 3]                \n",
      " 13                  -1  1         0  torch.nn.modules.upsampling.Upsample         [None, 2, 'nearest']          \n",
      " 14             [-1, 4]  1         0  ultralytics.nn.modules.conv.Concat           [1]                           \n",
      " 15                  -1  3   1247744  ultralytics.nn.modules.block.C2f             [768, 256, 3]                 \n",
      " 16                  -1  1    590336  ultralytics.nn.modules.conv.Conv             [256, 256, 3, 2]              \n",
      " 17            [-1, 12]  1         0  ultralytics.nn.modules.conv.Concat           [1]                           \n",
      " 18                  -1  3   4592640  ultralytics.nn.modules.block.C2f             [768, 512, 3]                 \n",
      " 19                  -1  1   2360320  ultralytics.nn.modules.conv.Conv             [512, 512, 3, 2]              \n",
      " 20             [-1, 9]  1         0  ultralytics.nn.modules.conv.Concat           [1]                           \n",
      " 21                  -1  3   4723712  ultralytics.nn.modules.block.C2f             [1024, 512, 3]                \n",
      " 22        [15, 18, 21]  1   5629060  ultralytics.nn.modules.head.Detect           [60, [256, 512, 512]]         \n",
      "Model summary: 365 layers, 43676100 parameters, 43676084 gradients, 165.7 GFLOPs\n",
      "\n",
      "Transferred 589/595 items from pretrained weights\n",
      "\u001b[34m\u001b[1mTensorBoard: \u001b[0mStart with 'tensorboard --logdir C:\\eece490proj\\xView\\YoloTrainingOutput\\train17', view at http://localhost:6006/\n",
      "Freezing layer 'model.22.dfl.conv.weight'\n",
      "\u001b[34m\u001b[1mAMP: \u001b[0mrunning Automatic Mixed Precision (AMP) checks with YOLOv8n...\n",
      "\u001b[34m\u001b[1mAMP: \u001b[0mchecks passed \n"
     ]
    },
    {
     "name": "stderr",
     "output_type": "stream",
     "text": [
      "\u001b[34m\u001b[1mtrain: \u001b[0mScanning C:\\eece490proj\\xView\\train\\labels.cache... 372 images, 0 backgrounds, 0 corrupt: 100%|██████████| 372/372 [00:00<?, ?it/s]"
     ]
    },
    {
     "name": "stdout",
     "output_type": "stream",
     "text": [
      "\u001b[34m\u001b[1mtrain: \u001b[0mWARNING  C:\\eece490proj\\xView\\train\\images\\10.tif: 63 duplicate labels removed\n",
      "\u001b[34m\u001b[1mtrain: \u001b[0mWARNING  C:\\eece490proj\\xView\\train\\images\\100.tif: 135 duplicate labels removed\n",
      "\u001b[34m\u001b[1mtrain: \u001b[0mWARNING  C:\\eece490proj\\xView\\train\\images\\102.tif: 1965 duplicate labels removed\n",
      "\u001b[34m\u001b[1mtrain: \u001b[0mWARNING  C:\\eece490proj\\xView\\train\\images\\1036.tif: 265 duplicate labels removed\n",
      "\u001b[34m\u001b[1mtrain: \u001b[0mWARNING  C:\\eece490proj\\xView\\train\\images\\1037.tif: 615 duplicate labels removed\n",
      "\u001b[34m\u001b[1mtrain: \u001b[0mWARNING  C:\\eece490proj\\xView\\train\\images\\104.tif: 1351 duplicate labels removed\n",
      "\u001b[34m\u001b[1mtrain: \u001b[0mWARNING  C:\\eece490proj\\xView\\train\\images\\1042.tif: 483 duplicate labels removed\n",
      "\u001b[34m\u001b[1mtrain: \u001b[0mWARNING  C:\\eece490proj\\xView\\train\\images\\1044.tif: 215 duplicate labels removed\n",
      "\u001b[34m\u001b[1mtrain: \u001b[0mWARNING  C:\\eece490proj\\xView\\train\\images\\1046.tif: 69 duplicate labels removed\n",
      "\u001b[34m\u001b[1mtrain: \u001b[0mWARNING  C:\\eece490proj\\xView\\train\\images\\1048.tif: 66 duplicate labels removed\n",
      "\u001b[34m\u001b[1mtrain: \u001b[0mWARNING  C:\\eece490proj\\xView\\train\\images\\1049.tif: 88 duplicate labels removed\n",
      "\u001b[34m\u001b[1mtrain: \u001b[0mWARNING  C:\\eece490proj\\xView\\train\\images\\105.tif: 892 duplicate labels removed\n",
      "\u001b[34m\u001b[1mtrain: \u001b[0mWARNING  C:\\eece490proj\\xView\\train\\images\\1050.tif: 1027 duplicate labels removed\n",
      "\u001b[34m\u001b[1mtrain: \u001b[0mWARNING  C:\\eece490proj\\xView\\train\\images\\1051.tif: 590 duplicate labels removed\n",
      "\u001b[34m\u001b[1mtrain: \u001b[0mWARNING  C:\\eece490proj\\xView\\train\\images\\1052.tif: 129 duplicate labels removed\n",
      "\u001b[34m\u001b[1mtrain: \u001b[0mWARNING  C:\\eece490proj\\xView\\train\\images\\1053.tif: 101 duplicate labels removed\n",
      "\u001b[34m\u001b[1mtrain: \u001b[0mWARNING  C:\\eece490proj\\xView\\train\\images\\1056.tif: 185 duplicate labels removed\n",
      "\u001b[34m\u001b[1mtrain: \u001b[0mWARNING  C:\\eece490proj\\xView\\train\\images\\1058.tif: 1278 duplicate labels removed\n",
      "\u001b[34m\u001b[1mtrain: \u001b[0mWARNING  C:\\eece490proj\\xView\\train\\images\\106.tif: 701 duplicate labels removed\n",
      "\u001b[34m\u001b[1mtrain: \u001b[0mWARNING  C:\\eece490proj\\xView\\train\\images\\1061.tif: 241 duplicate labels removed\n",
      "\u001b[34m\u001b[1mtrain: \u001b[0mWARNING  C:\\eece490proj\\xView\\train\\images\\1063.tif: 505 duplicate labels removed\n",
      "\u001b[34m\u001b[1mtrain: \u001b[0mWARNING  C:\\eece490proj\\xView\\train\\images\\1065.tif: 2956 duplicate labels removed\n",
      "\u001b[34m\u001b[1mtrain: \u001b[0mWARNING  C:\\eece490proj\\xView\\train\\images\\1067.tif: 90 duplicate labels removed\n",
      "\u001b[34m\u001b[1mtrain: \u001b[0mWARNING  C:\\eece490proj\\xView\\train\\images\\1068.tif: 184 duplicate labels removed\n",
      "\u001b[34m\u001b[1mtrain: \u001b[0mWARNING  C:\\eece490proj\\xView\\train\\images\\107.tif: 2727 duplicate labels removed\n",
      "\u001b[34m\u001b[1mtrain: \u001b[0mWARNING  C:\\eece490proj\\xView\\train\\images\\1070.tif: 1565 duplicate labels removed\n",
      "\u001b[34m\u001b[1mtrain: \u001b[0mWARNING  C:\\eece490proj\\xView\\train\\images\\1072.tif: 39 duplicate labels removed\n",
      "\u001b[34m\u001b[1mtrain: \u001b[0mWARNING  C:\\eece490proj\\xView\\train\\images\\1076.tif: 403 duplicate labels removed\n",
      "\u001b[34m\u001b[1mtrain: \u001b[0mWARNING  C:\\eece490proj\\xView\\train\\images\\1077.tif: 104 duplicate labels removed\n",
      "\u001b[34m\u001b[1mtrain: \u001b[0mWARNING  C:\\eece490proj\\xView\\train\\images\\1079.tif: 171 duplicate labels removed\n",
      "\u001b[34m\u001b[1mtrain: \u001b[0mWARNING  C:\\eece490proj\\xView\\train\\images\\1080.tif: 5736 duplicate labels removed\n",
      "\u001b[34m\u001b[1mtrain: \u001b[0mWARNING  C:\\eece490proj\\xView\\train\\images\\1081.tif: 62 duplicate labels removed\n",
      "\u001b[34m\u001b[1mtrain: \u001b[0mWARNING  C:\\eece490proj\\xView\\train\\images\\1084.tif: 191 duplicate labels removed\n",
      "\u001b[34m\u001b[1mtrain: \u001b[0mWARNING  C:\\eece490proj\\xView\\train\\images\\1085.tif: 122 duplicate labels removed\n",
      "\u001b[34m\u001b[1mtrain: \u001b[0mWARNING  C:\\eece490proj\\xView\\train\\images\\1086.tif: 490 duplicate labels removed\n",
      "\u001b[34m\u001b[1mtrain: \u001b[0mWARNING  C:\\eece490proj\\xView\\train\\images\\1087.tif: 90 duplicate labels removed\n",
      "\u001b[34m\u001b[1mtrain: \u001b[0mWARNING  C:\\eece490proj\\xView\\train\\images\\1088.tif: 286 duplicate labels removed\n",
      "\u001b[34m\u001b[1mtrain: \u001b[0mWARNING  C:\\eece490proj\\xView\\train\\images\\1089.tif: 325 duplicate labels removed\n",
      "\u001b[34m\u001b[1mtrain: \u001b[0mWARNING  C:\\eece490proj\\xView\\train\\images\\1090.tif: 79 duplicate labels removed\n",
      "\u001b[34m\u001b[1mtrain: \u001b[0mWARNING  C:\\eece490proj\\xView\\train\\images\\1091.tif: 61 duplicate labels removed\n",
      "\u001b[34m\u001b[1mtrain: \u001b[0mWARNING  C:\\eece490proj\\xView\\train\\images\\1092.tif: 91 duplicate labels removed\n",
      "\u001b[34m\u001b[1mtrain: \u001b[0mWARNING  C:\\eece490proj\\xView\\train\\images\\1094.tif: 188 duplicate labels removed\n",
      "\u001b[34m\u001b[1mtrain: \u001b[0mWARNING  C:\\eece490proj\\xView\\train\\images\\1095.tif: 555 duplicate labels removed\n",
      "\u001b[34m\u001b[1mtrain: \u001b[0mWARNING  C:\\eece490proj\\xView\\train\\images\\110.tif: 4007 duplicate labels removed\n",
      "\u001b[34m\u001b[1mtrain: \u001b[0mWARNING  C:\\eece490proj\\xView\\train\\images\\1104.tif: 31 duplicate labels removed\n",
      "\u001b[34m\u001b[1mtrain: \u001b[0mWARNING  C:\\eece490proj\\xView\\train\\images\\1106.tif: 5750 duplicate labels removed\n",
      "\u001b[34m\u001b[1mtrain: \u001b[0mWARNING  C:\\eece490proj\\xView\\train\\images\\1109.tif: 5346 duplicate labels removed\n",
      "\u001b[34m\u001b[1mtrain: \u001b[0mWARNING  C:\\eece490proj\\xView\\train\\images\\111.tif: 1389 duplicate labels removed\n",
      "\u001b[34m\u001b[1mtrain: \u001b[0mWARNING  C:\\eece490proj\\xView\\train\\images\\1114.tif: 1851 duplicate labels removed\n",
      "\u001b[34m\u001b[1mtrain: \u001b[0mWARNING  C:\\eece490proj\\xView\\train\\images\\1118.tif: 628 duplicate labels removed\n",
      "\u001b[34m\u001b[1mtrain: \u001b[0mWARNING  C:\\eece490proj\\xView\\train\\images\\112.tif: 2917 duplicate labels removed\n",
      "\u001b[34m\u001b[1mtrain: \u001b[0mWARNING  C:\\eece490proj\\xView\\train\\images\\1120.tif: 199 duplicate labels removed\n",
      "\u001b[34m\u001b[1mtrain: \u001b[0mWARNING  C:\\eece490proj\\xView\\train\\images\\1121.tif: 3050 duplicate labels removed\n",
      "\u001b[34m\u001b[1mtrain: \u001b[0mWARNING  C:\\eece490proj\\xView\\train\\images\\1124.tif: 1516 duplicate labels removed\n",
      "\u001b[34m\u001b[1mtrain: \u001b[0mWARNING  C:\\eece490proj\\xView\\train\\images\\1125.tif: 58 duplicate labels removed\n",
      "\u001b[34m\u001b[1mtrain: \u001b[0mWARNING  C:\\eece490proj\\xView\\train\\images\\1126.tif: 617 duplicate labels removed\n",
      "\u001b[34m\u001b[1mtrain: \u001b[0mWARNING  C:\\eece490proj\\xView\\train\\images\\1127.tif: 3816 duplicate labels removed\n",
      "\u001b[34m\u001b[1mtrain: \u001b[0mWARNING  C:\\eece490proj\\xView\\train\\images\\1128.tif: 747 duplicate labels removed\n",
      "\u001b[34m\u001b[1mtrain: \u001b[0mWARNING  C:\\eece490proj\\xView\\train\\images\\1129.tif: 231 duplicate labels removed\n",
      "\u001b[34m\u001b[1mtrain: \u001b[0mWARNING  C:\\eece490proj\\xView\\train\\images\\1132.tif: 1924 duplicate labels removed\n",
      "\u001b[34m\u001b[1mtrain: \u001b[0mWARNING  C:\\eece490proj\\xView\\train\\images\\1133.tif: 433 duplicate labels removed\n",
      "\u001b[34m\u001b[1mtrain: \u001b[0mWARNING  C:\\eece490proj\\xView\\train\\images\\1135.tif: 110 duplicate labels removed\n",
      "\u001b[34m\u001b[1mtrain: \u001b[0mWARNING  C:\\eece490proj\\xView\\train\\images\\1136.tif: 307 duplicate labels removed\n",
      "\u001b[34m\u001b[1mtrain: \u001b[0mWARNING  C:\\eece490proj\\xView\\train\\images\\1139.tif: 124 duplicate labels removed\n",
      "\u001b[34m\u001b[1mtrain: \u001b[0mWARNING  C:\\eece490proj\\xView\\train\\images\\1140.tif: 1048 duplicate labels removed\n",
      "\u001b[34m\u001b[1mtrain: \u001b[0mWARNING  C:\\eece490proj\\xView\\train\\images\\1141.tif: 980 duplicate labels removed\n",
      "\u001b[34m\u001b[1mtrain: \u001b[0mWARNING  C:\\eece490proj\\xView\\train\\images\\1142.tif: 1255 duplicate labels removed\n",
      "\u001b[34m\u001b[1mtrain: \u001b[0mWARNING  C:\\eece490proj\\xView\\train\\images\\1149.tif: 153 duplicate labels removed\n",
      "\u001b[34m\u001b[1mtrain: \u001b[0mWARNING  C:\\eece490proj\\xView\\train\\images\\1150.tif: 2875 duplicate labels removed\n",
      "\u001b[34m\u001b[1mtrain: \u001b[0mWARNING  C:\\eece490proj\\xView\\train\\images\\1154.tif: 451 duplicate labels removed\n",
      "\u001b[34m\u001b[1mtrain: \u001b[0mWARNING  C:\\eece490proj\\xView\\train\\images\\1155.tif: 1 duplicate labels removed\n",
      "\u001b[34m\u001b[1mtrain: \u001b[0mWARNING  C:\\eece490proj\\xView\\train\\images\\1158.tif: 335 duplicate labels removed\n",
      "\u001b[34m\u001b[1mtrain: \u001b[0mWARNING  C:\\eece490proj\\xView\\train\\images\\1164.tif: 1194 duplicate labels removed\n",
      "\u001b[34m\u001b[1mtrain: \u001b[0mWARNING  C:\\eece490proj\\xView\\train\\images\\1165.tif: 245 duplicate labels removed\n",
      "\u001b[34m\u001b[1mtrain: \u001b[0mWARNING  C:\\eece490proj\\xView\\train\\images\\1169.tif: 2457 duplicate labels removed\n",
      "\u001b[34m\u001b[1mtrain: \u001b[0mWARNING  C:\\eece490proj\\xView\\train\\images\\1175.tif: 2278 duplicate labels removed\n",
      "\u001b[34m\u001b[1mtrain: \u001b[0mWARNING  C:\\eece490proj\\xView\\train\\images\\1178.tif: 3831 duplicate labels removed\n",
      "\u001b[34m\u001b[1mtrain: \u001b[0mWARNING  C:\\eece490proj\\xView\\train\\images\\118.tif: 3014 duplicate labels removed\n",
      "\u001b[34m\u001b[1mtrain: \u001b[0mWARNING  C:\\eece490proj\\xView\\train\\images\\1180.tif: 1529 duplicate labels removed\n",
      "\u001b[34m\u001b[1mtrain: \u001b[0mWARNING  C:\\eece490proj\\xView\\train\\images\\1181.tif: 1046 duplicate labels removed\n",
      "\u001b[34m\u001b[1mtrain: \u001b[0mWARNING  C:\\eece490proj\\xView\\train\\images\\1182.tif: 866 duplicate labels removed\n",
      "\u001b[34m\u001b[1mtrain: \u001b[0mWARNING  C:\\eece490proj\\xView\\train\\images\\1184.tif: 487 duplicate labels removed\n",
      "\u001b[34m\u001b[1mtrain: \u001b[0mWARNING  C:\\eece490proj\\xView\\train\\images\\1185.tif: 1489 duplicate labels removed\n",
      "\u001b[34m\u001b[1mtrain: \u001b[0mWARNING  C:\\eece490proj\\xView\\train\\images\\1192.tif: 2367 duplicate labels removed\n",
      "\u001b[34m\u001b[1mtrain: \u001b[0mWARNING  C:\\eece490proj\\xView\\train\\images\\1193.tif: 2552 duplicate labels removed\n",
      "\u001b[34m\u001b[1mtrain: \u001b[0mWARNING  C:\\eece490proj\\xView\\train\\images\\1196.tif: 706 duplicate labels removed\n",
      "\u001b[34m\u001b[1mtrain: \u001b[0mWARNING  C:\\eece490proj\\xView\\train\\images\\1197.tif: 951 duplicate labels removed\n",
      "\u001b[34m\u001b[1mtrain: \u001b[0mWARNING  C:\\eece490proj\\xView\\train\\images\\1205.tif: 1020 duplicate labels removed\n",
      "\u001b[34m\u001b[1mtrain: \u001b[0mWARNING  C:\\eece490proj\\xView\\train\\images\\1206.tif: 1751 duplicate labels removed\n",
      "\u001b[34m\u001b[1mtrain: \u001b[0mWARNING  C:\\eece490proj\\xView\\train\\images\\1208.tif: 299 duplicate labels removed\n",
      "\u001b[34m\u001b[1mtrain: \u001b[0mWARNING  C:\\eece490proj\\xView\\train\\images\\1211.tif: 2812 duplicate labels removed\n",
      "\u001b[34m\u001b[1mtrain: \u001b[0mWARNING  C:\\eece490proj\\xView\\train\\images\\1212.tif: 4399 duplicate labels removed\n",
      "\u001b[34m\u001b[1mtrain: \u001b[0mWARNING  C:\\eece490proj\\xView\\train\\images\\1216.tif: 4550 duplicate labels removed\n",
      "\u001b[34m\u001b[1mtrain: \u001b[0mWARNING  C:\\eece490proj\\xView\\train\\images\\1217.tif: 5609 duplicate labels removed\n",
      "\u001b[34m\u001b[1mtrain: \u001b[0mWARNING  C:\\eece490proj\\xView\\train\\images\\1224.tif: 576 duplicate labels removed\n",
      "\u001b[34m\u001b[1mtrain: \u001b[0mWARNING  C:\\eece490proj\\xView\\train\\images\\1233.tif: 1109 duplicate labels removed\n",
      "\u001b[34m\u001b[1mtrain: \u001b[0mWARNING  C:\\eece490proj\\xView\\train\\images\\1237.tif: 50 duplicate labels removed\n",
      "\u001b[34m\u001b[1mtrain: \u001b[0mWARNING  C:\\eece490proj\\xView\\train\\images\\124.tif: 23 duplicate labels removed\n",
      "\u001b[34m\u001b[1mtrain: \u001b[0mWARNING  C:\\eece490proj\\xView\\train\\images\\1244.tif: 2 duplicate labels removed\n",
      "\u001b[34m\u001b[1mtrain: \u001b[0mWARNING  C:\\eece490proj\\xView\\train\\images\\1245.tif: 8 duplicate labels removed\n",
      "\u001b[34m\u001b[1mtrain: \u001b[0mWARNING  C:\\eece490proj\\xView\\train\\images\\1246.tif: 21 duplicate labels removed\n",
      "\u001b[34m\u001b[1mtrain: \u001b[0mWARNING  C:\\eece490proj\\xView\\train\\images\\125.tif: 522 duplicate labels removed\n",
      "\u001b[34m\u001b[1mtrain: \u001b[0mWARNING  C:\\eece490proj\\xView\\train\\images\\1253.tif: 1942 duplicate labels removed\n",
      "\u001b[34m\u001b[1mtrain: \u001b[0mWARNING  C:\\eece490proj\\xView\\train\\images\\1255.tif: 480 duplicate labels removed\n",
      "\u001b[34m\u001b[1mtrain: \u001b[0mWARNING  C:\\eece490proj\\xView\\train\\images\\1256.tif: 900 duplicate labels removed\n",
      "\u001b[34m\u001b[1mtrain: \u001b[0mWARNING  C:\\eece490proj\\xView\\train\\images\\126.tif: 59 duplicate labels removed\n",
      "\u001b[34m\u001b[1mtrain: \u001b[0mWARNING  C:\\eece490proj\\xView\\train\\images\\1265.tif: 4 duplicate labels removed\n",
      "\u001b[34m\u001b[1mtrain: \u001b[0mWARNING  C:\\eece490proj\\xView\\train\\images\\1268.tif: 161 duplicate labels removed\n",
      "\u001b[34m\u001b[1mtrain: \u001b[0mWARNING  C:\\eece490proj\\xView\\train\\images\\1278.tif: 6 duplicate labels removed\n",
      "\u001b[34m\u001b[1mtrain: \u001b[0mWARNING  C:\\eece490proj\\xView\\train\\images\\128.tif: 2213 duplicate labels removed\n",
      "\u001b[34m\u001b[1mtrain: \u001b[0mWARNING  C:\\eece490proj\\xView\\train\\images\\1280.tif: 7 duplicate labels removed\n",
      "\u001b[34m\u001b[1mtrain: \u001b[0mWARNING  C:\\eece490proj\\xView\\train\\images\\1284.tif: 183 duplicate labels removed\n",
      "\u001b[34m\u001b[1mtrain: \u001b[0mWARNING  C:\\eece490proj\\xView\\train\\images\\1285.tif: 24 duplicate labels removed\n",
      "\u001b[34m\u001b[1mtrain: \u001b[0mWARNING  C:\\eece490proj\\xView\\train\\images\\129.tif: 2221 duplicate labels removed\n",
      "\u001b[34m\u001b[1mtrain: \u001b[0mWARNING  C:\\eece490proj\\xView\\train\\images\\130.tif: 211 duplicate labels removed\n",
      "\u001b[34m\u001b[1mtrain: \u001b[0mWARNING  C:\\eece490proj\\xView\\train\\images\\1309.tif: 2248 duplicate labels removed\n",
      "\u001b[34m\u001b[1mtrain: \u001b[0mWARNING  C:\\eece490proj\\xView\\train\\images\\131.tif: 2855 duplicate labels removed\n",
      "\u001b[34m\u001b[1mtrain: \u001b[0mWARNING  C:\\eece490proj\\xView\\train\\images\\1311.tif: 1 duplicate labels removed\n",
      "\u001b[34m\u001b[1mtrain: \u001b[0mWARNING  C:\\eece490proj\\xView\\train\\images\\1327.tif: 3 duplicate labels removed\n",
      "\u001b[34m\u001b[1mtrain: \u001b[0mWARNING  C:\\eece490proj\\xView\\train\\images\\1329.tif: 1070 duplicate labels removed\n",
      "\u001b[34m\u001b[1mtrain: \u001b[0mWARNING  C:\\eece490proj\\xView\\train\\images\\1346.tif: 576 duplicate labels removed\n",
      "\u001b[34m\u001b[1mtrain: \u001b[0mWARNING  C:\\eece490proj\\xView\\train\\images\\1351.tif: 2 duplicate labels removed\n",
      "\u001b[34m\u001b[1mtrain: \u001b[0mWARNING  C:\\eece490proj\\xView\\train\\images\\1353.tif: 1 duplicate labels removed\n",
      "\u001b[34m\u001b[1mtrain: \u001b[0mWARNING  C:\\eece490proj\\xView\\train\\images\\1357.tif: 795 duplicate labels removed\n",
      "\u001b[34m\u001b[1mtrain: \u001b[0mWARNING  C:\\eece490proj\\xView\\train\\images\\136.tif: 1810 duplicate labels removed\n",
      "\u001b[34m\u001b[1mtrain: \u001b[0mWARNING  C:\\eece490proj\\xView\\train\\images\\1361.tif: 4073 duplicate labels removed\n",
      "\u001b[34m\u001b[1mtrain: \u001b[0mWARNING  C:\\eece490proj\\xView\\train\\images\\1362.tif: 842 duplicate labels removed\n",
      "\u001b[34m\u001b[1mtrain: \u001b[0mWARNING  C:\\eece490proj\\xView\\train\\images\\1364.tif: 816 duplicate labels removed\n",
      "\u001b[34m\u001b[1mtrain: \u001b[0mWARNING  C:\\eece490proj\\xView\\train\\images\\1372.tif: 2 duplicate labels removed\n",
      "\u001b[34m\u001b[1mtrain: \u001b[0mWARNING  C:\\eece490proj\\xView\\train\\images\\1374.tif: 3 duplicate labels removed\n",
      "\u001b[34m\u001b[1mtrain: \u001b[0mWARNING  C:\\eece490proj\\xView\\train\\images\\1378.tif: 639 duplicate labels removed\n",
      "\u001b[34m\u001b[1mtrain: \u001b[0mWARNING  C:\\eece490proj\\xView\\train\\images\\1379.tif: 596 duplicate labels removed\n",
      "\u001b[34m\u001b[1mtrain: \u001b[0mWARNING  C:\\eece490proj\\xView\\train\\images\\1384.tif: 76 duplicate labels removed\n",
      "\u001b[34m\u001b[1mtrain: \u001b[0mWARNING  C:\\eece490proj\\xView\\train\\images\\1385.tif: 905 duplicate labels removed\n",
      "\u001b[34m\u001b[1mtrain: \u001b[0mWARNING  C:\\eece490proj\\xView\\train\\images\\1397.tif: 1646 duplicate labels removed\n",
      "\u001b[34m\u001b[1mtrain: \u001b[0mWARNING  C:\\eece490proj\\xView\\train\\images\\1399.tif: 233 duplicate labels removed\n",
      "\u001b[34m\u001b[1mtrain: \u001b[0mWARNING  C:\\eece490proj\\xView\\train\\images\\140.tif: 127 duplicate labels removed\n",
      "\u001b[34m\u001b[1mtrain: \u001b[0mWARNING  C:\\eece490proj\\xView\\train\\images\\1403.tif: 359 duplicate labels removed\n",
      "\u001b[34m\u001b[1mtrain: \u001b[0mWARNING  C:\\eece490proj\\xView\\train\\images\\1405.tif: 870 duplicate labels removed\n",
      "\u001b[34m\u001b[1mtrain: \u001b[0mWARNING  C:\\eece490proj\\xView\\train\\images\\1406.tif: 1498 duplicate labels removed\n",
      "\u001b[34m\u001b[1mtrain: \u001b[0mWARNING  C:\\eece490proj\\xView\\train\\images\\1416.tif: 477 duplicate labels removed\n",
      "\u001b[34m\u001b[1mtrain: \u001b[0mWARNING  C:\\eece490proj\\xView\\train\\images\\142.tif: 9 duplicate labels removed\n",
      "\u001b[34m\u001b[1mtrain: \u001b[0mWARNING  C:\\eece490proj\\xView\\train\\images\\1420.tif: 1049 duplicate labels removed\n",
      "\u001b[34m\u001b[1mtrain: \u001b[0mWARNING  C:\\eece490proj\\xView\\train\\images\\1422.tif: 4014 duplicate labels removed\n",
      "\u001b[34m\u001b[1mtrain: \u001b[0mWARNING  C:\\eece490proj\\xView\\train\\images\\1425.tif: 299 duplicate labels removed\n",
      "\u001b[34m\u001b[1mtrain: \u001b[0mWARNING  C:\\eece490proj\\xView\\train\\images\\1428.tif: 4 duplicate labels removed\n",
      "\u001b[34m\u001b[1mtrain: \u001b[0mWARNING  C:\\eece490proj\\xView\\train\\images\\1429.tif: 6 duplicate labels removed\n",
      "\u001b[34m\u001b[1mtrain: \u001b[0mWARNING  C:\\eece490proj\\xView\\train\\images\\1430.tif: 4183 duplicate labels removed\n",
      "\u001b[34m\u001b[1mtrain: \u001b[0mWARNING  C:\\eece490proj\\xView\\train\\images\\1431.tif: 966 duplicate labels removed\n",
      "\u001b[34m\u001b[1mtrain: \u001b[0mWARNING  C:\\eece490proj\\xView\\train\\images\\1432.tif: 1086 duplicate labels removed\n",
      "\u001b[34m\u001b[1mtrain: \u001b[0mWARNING  C:\\eece490proj\\xView\\train\\images\\1436.tif: 3691 duplicate labels removed\n",
      "\u001b[34m\u001b[1mtrain: \u001b[0mWARNING  C:\\eece490proj\\xView\\train\\images\\1438.tif: 565 duplicate labels removed\n",
      "\u001b[34m\u001b[1mtrain: \u001b[0mWARNING  C:\\eece490proj\\xView\\train\\images\\1439.tif: 9 duplicate labels removed\n",
      "\u001b[34m\u001b[1mtrain: \u001b[0mWARNING  C:\\eece490proj\\xView\\train\\images\\144.tif: 483 duplicate labels removed\n",
      "\u001b[34m\u001b[1mtrain: \u001b[0mWARNING  C:\\eece490proj\\xView\\train\\images\\1440.tif: 1 duplicate labels removed\n",
      "\u001b[34m\u001b[1mtrain: \u001b[0mWARNING  C:\\eece490proj\\xView\\train\\images\\1441.tif: 1407 duplicate labels removed\n",
      "\u001b[34m\u001b[1mtrain: \u001b[0mWARNING  C:\\eece490proj\\xView\\train\\images\\1442.tif: 97 duplicate labels removed\n",
      "\u001b[34m\u001b[1mtrain: \u001b[0mWARNING  C:\\eece490proj\\xView\\train\\images\\1443.tif: 7 duplicate labels removed\n",
      "\u001b[34m\u001b[1mtrain: \u001b[0mWARNING  C:\\eece490proj\\xView\\train\\images\\1444.tif: 2189 duplicate labels removed\n",
      "\u001b[34m\u001b[1mtrain: \u001b[0mWARNING  C:\\eece490proj\\xView\\train\\images\\1445.tif: 796 duplicate labels removed\n",
      "\u001b[34m\u001b[1mtrain: \u001b[0mWARNING  C:\\eece490proj\\xView\\train\\images\\1446.tif: 2134 duplicate labels removed\n",
      "\u001b[34m\u001b[1mtrain: \u001b[0mWARNING  C:\\eece490proj\\xView\\train\\images\\1447.tif: 119 duplicate labels removed\n",
      "\u001b[34m\u001b[1mtrain: \u001b[0mWARNING  C:\\eece490proj\\xView\\train\\images\\1448.tif: 574 duplicate labels removed\n",
      "\u001b[34m\u001b[1mtrain: \u001b[0mWARNING  C:\\eece490proj\\xView\\train\\images\\145.tif: 1086 duplicate labels removed\n",
      "\u001b[34m\u001b[1mtrain: \u001b[0mWARNING  C:\\eece490proj\\xView\\train\\images\\1450.tif: 3619 duplicate labels removed\n",
      "\u001b[34m\u001b[1mtrain: \u001b[0mWARNING  C:\\eece490proj\\xView\\train\\images\\1451.tif: 1049 duplicate labels removed\n",
      "\u001b[34m\u001b[1mtrain: \u001b[0mWARNING  C:\\eece490proj\\xView\\train\\images\\1452.tif: 412 duplicate labels removed\n",
      "\u001b[34m\u001b[1mtrain: \u001b[0mWARNING  C:\\eece490proj\\xView\\train\\images\\1453.tif: 1 duplicate labels removed\n",
      "\u001b[34m\u001b[1mtrain: \u001b[0mWARNING  C:\\eece490proj\\xView\\train\\images\\1454.tif: 2797 duplicate labels removed\n",
      "\u001b[34m\u001b[1mtrain: \u001b[0mWARNING  C:\\eece490proj\\xView\\train\\images\\1456.tif: 216 duplicate labels removed\n",
      "\u001b[34m\u001b[1mtrain: \u001b[0mWARNING  C:\\eece490proj\\xView\\train\\images\\1457.tif: 957 duplicate labels removed\n",
      "\u001b[34m\u001b[1mtrain: \u001b[0mWARNING  C:\\eece490proj\\xView\\train\\images\\1460.tif: 621 duplicate labels removed\n",
      "\u001b[34m\u001b[1mtrain: \u001b[0mWARNING  C:\\eece490proj\\xView\\train\\images\\1462.tif: 252 duplicate labels removed\n",
      "\u001b[34m\u001b[1mtrain: \u001b[0mWARNING  C:\\eece490proj\\xView\\train\\images\\1463.tif: 2 duplicate labels removed\n",
      "\u001b[34m\u001b[1mtrain: \u001b[0mWARNING  C:\\eece490proj\\xView\\train\\images\\1466.tif: 687 duplicate labels removed\n",
      "\u001b[34m\u001b[1mtrain: \u001b[0mWARNING  C:\\eece490proj\\xView\\train\\images\\1467.tif: 26 duplicate labels removed\n",
      "\u001b[34m\u001b[1mtrain: \u001b[0mWARNING  C:\\eece490proj\\xView\\train\\images\\1468.tif: 823 duplicate labels removed\n",
      "\u001b[34m\u001b[1mtrain: \u001b[0mWARNING  C:\\eece490proj\\xView\\train\\images\\1469.tif: 3 duplicate labels removed\n",
      "\u001b[34m\u001b[1mtrain: \u001b[0mWARNING  C:\\eece490proj\\xView\\train\\images\\1472.tif: 676 duplicate labels removed\n",
      "\u001b[34m\u001b[1mtrain: \u001b[0mWARNING  C:\\eece490proj\\xView\\train\\images\\1473.tif: 815 duplicate labels removed\n",
      "\u001b[34m\u001b[1mtrain: \u001b[0mWARNING  C:\\eece490proj\\xView\\train\\images\\1476.tif: 531 duplicate labels removed\n",
      "\u001b[34m\u001b[1mtrain: \u001b[0mWARNING  C:\\eece490proj\\xView\\train\\images\\1478.tif: 223 duplicate labels removed\n",
      "\u001b[34m\u001b[1mtrain: \u001b[0mWARNING  C:\\eece490proj\\xView\\train\\images\\1482.tif: 617 duplicate labels removed\n",
      "\u001b[34m\u001b[1mtrain: \u001b[0mWARNING  C:\\eece490proj\\xView\\train\\images\\1486.tif: 273 duplicate labels removed\n",
      "\u001b[34m\u001b[1mtrain: \u001b[0mWARNING  C:\\eece490proj\\xView\\train\\images\\1487.tif: 47 duplicate labels removed\n",
      "\u001b[34m\u001b[1mtrain: \u001b[0mWARNING  C:\\eece490proj\\xView\\train\\images\\149.tif: 1 duplicate labels removed\n",
      "\u001b[34m\u001b[1mtrain: \u001b[0mWARNING  C:\\eece490proj\\xView\\train\\images\\1496.tif: 592 duplicate labels removed\n",
      "\u001b[34m\u001b[1mtrain: \u001b[0mWARNING  C:\\eece490proj\\xView\\train\\images\\1505.tif: 1651 duplicate labels removed\n",
      "\u001b[34m\u001b[1mtrain: \u001b[0mWARNING  C:\\eece490proj\\xView\\train\\images\\1507.tif: 29 duplicate labels removed\n",
      "\u001b[34m\u001b[1mtrain: \u001b[0mWARNING  C:\\eece490proj\\xView\\train\\images\\1508.tif: 13 duplicate labels removed\n",
      "\u001b[34m\u001b[1mtrain: \u001b[0mWARNING  C:\\eece490proj\\xView\\train\\images\\1509.tif: 76 duplicate labels removed\n",
      "\u001b[34m\u001b[1mtrain: \u001b[0mWARNING  C:\\eece490proj\\xView\\train\\images\\1511.tif: 1479 duplicate labels removed\n",
      "\u001b[34m\u001b[1mtrain: \u001b[0mWARNING  C:\\eece490proj\\xView\\train\\images\\1523.tif: 1267 duplicate labels removed\n",
      "\u001b[34m\u001b[1mtrain: \u001b[0mWARNING  C:\\eece490proj\\xView\\train\\images\\1529.tif: 2673 duplicate labels removed\n",
      "\u001b[34m\u001b[1mtrain: \u001b[0mWARNING  C:\\eece490proj\\xView\\train\\images\\1530.tif: 3431 duplicate labels removed\n",
      "\u001b[34m\u001b[1mtrain: \u001b[0mWARNING  C:\\eece490proj\\xView\\train\\images\\1559.tif: 35 duplicate labels removed\n",
      "\u001b[34m\u001b[1mtrain: \u001b[0mWARNING  C:\\eece490proj\\xView\\train\\images\\1562.tif: 3 duplicate labels removed\n",
      "\u001b[34m\u001b[1mtrain: \u001b[0mWARNING  C:\\eece490proj\\xView\\train\\images\\1565.tif: 3769 duplicate labels removed\n",
      "\u001b[34m\u001b[1mtrain: \u001b[0mWARNING  C:\\eece490proj\\xView\\train\\images\\1568.tif: 608 duplicate labels removed\n",
      "\u001b[34m\u001b[1mtrain: \u001b[0mWARNING  C:\\eece490proj\\xView\\train\\images\\157.tif: 3334 duplicate labels removed\n",
      "\u001b[34m\u001b[1mtrain: \u001b[0mWARNING  C:\\eece490proj\\xView\\train\\images\\1577.tif: 8 duplicate labels removed\n",
      "\u001b[34m\u001b[1mtrain: \u001b[0mWARNING  C:\\eece490proj\\xView\\train\\images\\1579.tif: 12 duplicate labels removed\n",
      "\u001b[34m\u001b[1mtrain: \u001b[0mWARNING  C:\\eece490proj\\xView\\train\\images\\158.tif: 860 duplicate labels removed\n",
      "\u001b[34m\u001b[1mtrain: \u001b[0mWARNING  C:\\eece490proj\\xView\\train\\images\\1580.tif: 85 duplicate labels removed\n",
      "\u001b[34m\u001b[1mtrain: \u001b[0mWARNING  C:\\eece490proj\\xView\\train\\images\\1581.tif: 19 duplicate labels removed\n",
      "\u001b[34m\u001b[1mtrain: \u001b[0mWARNING  C:\\eece490proj\\xView\\train\\images\\1584.tif: 1249 duplicate labels removed\n",
      "\u001b[34m\u001b[1mtrain: \u001b[0mWARNING  C:\\eece490proj\\xView\\train\\images\\1585.tif: 1357 duplicate labels removed\n",
      "\u001b[34m\u001b[1mtrain: \u001b[0mWARNING  C:\\eece490proj\\xView\\train\\images\\1586.tif: 2060 duplicate labels removed\n",
      "\u001b[34m\u001b[1mtrain: \u001b[0mWARNING  C:\\eece490proj\\xView\\train\\images\\1587.tif: 1442 duplicate labels removed\n",
      "\u001b[34m\u001b[1mtrain: \u001b[0mWARNING  C:\\eece490proj\\xView\\train\\images\\159.tif: 2 duplicate labels removed\n",
      "\u001b[34m\u001b[1mtrain: \u001b[0mWARNING  C:\\eece490proj\\xView\\train\\images\\1590.tif: 315 duplicate labels removed\n",
      "\u001b[34m\u001b[1mtrain: \u001b[0mWARNING  C:\\eece490proj\\xView\\train\\images\\1593.tif: 77 duplicate labels removed\n",
      "\u001b[34m\u001b[1mtrain: \u001b[0mWARNING  C:\\eece490proj\\xView\\train\\images\\1600.tif: 46 duplicate labels removed\n",
      "\u001b[34m\u001b[1mtrain: \u001b[0mWARNING  C:\\eece490proj\\xView\\train\\images\\1602.tif: 172 duplicate labels removed\n",
      "\u001b[34m\u001b[1mtrain: \u001b[0mWARNING  C:\\eece490proj\\xView\\train\\images\\1604.tif: 7 duplicate labels removed\n",
      "\u001b[34m\u001b[1mtrain: \u001b[0mWARNING  C:\\eece490proj\\xView\\train\\images\\579.tif: 113 duplicate labels removed\n",
      "\u001b[34m\u001b[1mtrain: \u001b[0mWARNING  C:\\eece490proj\\xView\\train\\images\\580.tif: 6 duplicate labels removed\n",
      "\u001b[34m\u001b[1mtrain: \u001b[0mWARNING  C:\\eece490proj\\xView\\train\\images\\584.tif: 15 duplicate labels removed\n",
      "\u001b[34m\u001b[1mtrain: \u001b[0mWARNING  C:\\eece490proj\\xView\\train\\images\\587.tif: 132 duplicate labels removed\n",
      "\u001b[34m\u001b[1mtrain: \u001b[0mWARNING  C:\\eece490proj\\xView\\train\\images\\593.tif: 41 duplicate labels removed\n",
      "\u001b[34m\u001b[1mtrain: \u001b[0mWARNING  C:\\eece490proj\\xView\\train\\images\\594.tif: 41 duplicate labels removed\n",
      "\u001b[34m\u001b[1mtrain: \u001b[0mWARNING  C:\\eece490proj\\xView\\train\\images\\595.tif: 1 duplicate labels removed\n",
      "\u001b[34m\u001b[1mtrain: \u001b[0mWARNING  C:\\eece490proj\\xView\\train\\images\\596.tif: 7 duplicate labels removed\n",
      "\u001b[34m\u001b[1mtrain: \u001b[0mWARNING  C:\\eece490proj\\xView\\train\\images\\598.tif: 302 duplicate labels removed\n",
      "\u001b[34m\u001b[1mtrain: \u001b[0mWARNING  C:\\eece490proj\\xView\\train\\images\\600.tif: 4605 duplicate labels removed\n",
      "\u001b[34m\u001b[1mtrain: \u001b[0mWARNING  C:\\eece490proj\\xView\\train\\images\\601.tif: 1 duplicate labels removed\n",
      "\u001b[34m\u001b[1mtrain: \u001b[0mWARNING  C:\\eece490proj\\xView\\train\\images\\604.tif: 9 duplicate labels removed\n",
      "\u001b[34m\u001b[1mtrain: \u001b[0mWARNING  C:\\eece490proj\\xView\\train\\images\\605.tif: 1 duplicate labels removed\n",
      "\u001b[34m\u001b[1mtrain: \u001b[0mWARNING  C:\\eece490proj\\xView\\train\\images\\606.tif: 1 duplicate labels removed\n",
      "\u001b[34m\u001b[1mtrain: \u001b[0mWARNING  C:\\eece490proj\\xView\\train\\images\\608.tif: 227 duplicate labels removed\n",
      "\u001b[34m\u001b[1mtrain: \u001b[0mWARNING  C:\\eece490proj\\xView\\train\\images\\609.tif: 405 duplicate labels removed\n",
      "\u001b[34m\u001b[1mtrain: \u001b[0mWARNING  C:\\eece490proj\\xView\\train\\images\\610.tif: 295 duplicate labels removed\n",
      "\u001b[34m\u001b[1mtrain: \u001b[0mWARNING  C:\\eece490proj\\xView\\train\\images\\611.tif: 1 duplicate labels removed\n",
      "\u001b[34m\u001b[1mtrain: \u001b[0mWARNING  C:\\eece490proj\\xView\\train\\images\\612.tif: 9 duplicate labels removed\n",
      "\u001b[34m\u001b[1mtrain: \u001b[0mWARNING  C:\\eece490proj\\xView\\train\\images\\613.tif: 59 duplicate labels removed\n",
      "\u001b[34m\u001b[1mtrain: \u001b[0mWARNING  C:\\eece490proj\\xView\\train\\images\\614.tif: 183 duplicate labels removed\n",
      "\u001b[34m\u001b[1mtrain: \u001b[0mWARNING  C:\\eece490proj\\xView\\train\\images\\615.tif: 39 duplicate labels removed\n",
      "\u001b[34m\u001b[1mtrain: \u001b[0mWARNING  C:\\eece490proj\\xView\\train\\images\\617.tif: 71 duplicate labels removed\n",
      "\u001b[34m\u001b[1mtrain: \u001b[0mWARNING  C:\\eece490proj\\xView\\train\\images\\618.tif: 1526 duplicate labels removed\n",
      "\u001b[34m\u001b[1mtrain: \u001b[0mWARNING  C:\\eece490proj\\xView\\train\\images\\619.tif: 13 duplicate labels removed\n",
      "\u001b[34m\u001b[1mtrain: \u001b[0mWARNING  C:\\eece490proj\\xView\\train\\images\\620.tif: 44 duplicate labels removed\n",
      "\u001b[34m\u001b[1mtrain: \u001b[0mWARNING  C:\\eece490proj\\xView\\train\\images\\621.tif: 7 duplicate labels removed\n",
      "\u001b[34m\u001b[1mtrain: \u001b[0mWARNING  C:\\eece490proj\\xView\\train\\images\\622.tif: 2 duplicate labels removed\n",
      "\u001b[34m\u001b[1mtrain: \u001b[0mWARNING  C:\\eece490proj\\xView\\train\\images\\626.tif: 1 duplicate labels removed\n",
      "\u001b[34m\u001b[1mtrain: \u001b[0mWARNING  C:\\eece490proj\\xView\\train\\images\\627.tif: 49 duplicate labels removed\n",
      "\u001b[34m\u001b[1mtrain: \u001b[0mWARNING  C:\\eece490proj\\xView\\train\\images\\629.tif: 77 duplicate labels removed\n",
      "\u001b[34m\u001b[1mtrain: \u001b[0mWARNING  C:\\eece490proj\\xView\\train\\images\\635.tif: 11 duplicate labels removed\n",
      "\u001b[34m\u001b[1mtrain: \u001b[0mWARNING  C:\\eece490proj\\xView\\train\\images\\637.tif: 54 duplicate labels removed\n",
      "\u001b[34m\u001b[1mtrain: \u001b[0mWARNING  C:\\eece490proj\\xView\\train\\images\\639.tif: 23 duplicate labels removed\n",
      "\u001b[34m\u001b[1mtrain: \u001b[0mWARNING  C:\\eece490proj\\xView\\train\\images\\641.tif: 3 duplicate labels removed\n",
      "\u001b[34m\u001b[1mtrain: \u001b[0mWARNING  C:\\eece490proj\\xView\\train\\images\\647.tif: 222 duplicate labels removed\n",
      "\u001b[34m\u001b[1mtrain: \u001b[0mWARNING  C:\\eece490proj\\xView\\train\\images\\650.tif: 1 duplicate labels removed\n",
      "\u001b[34m\u001b[1mtrain: \u001b[0mWARNING  C:\\eece490proj\\xView\\train\\images\\652.tif: 8 duplicate labels removed\n",
      "\u001b[34m\u001b[1mtrain: \u001b[0mWARNING  C:\\eece490proj\\xView\\train\\images\\658.tif: 71 duplicate labels removed\n",
      "\u001b[34m\u001b[1mtrain: \u001b[0mWARNING  C:\\eece490proj\\xView\\train\\images\\659.tif: 1 duplicate labels removed\n",
      "\u001b[34m\u001b[1mtrain: \u001b[0mWARNING  C:\\eece490proj\\xView\\train\\images\\665.tif: 23 duplicate labels removed\n",
      "\u001b[34m\u001b[1mtrain: \u001b[0mWARNING  C:\\eece490proj\\xView\\train\\images\\669.tif: 66 duplicate labels removed\n",
      "\u001b[34m\u001b[1mtrain: \u001b[0mWARNING  C:\\eece490proj\\xView\\train\\images\\670.tif: 45 duplicate labels removed\n",
      "\u001b[34m\u001b[1mtrain: \u001b[0mWARNING  C:\\eece490proj\\xView\\train\\images\\671.tif: 1 duplicate labels removed\n",
      "\u001b[34m\u001b[1mtrain: \u001b[0mWARNING  C:\\eece490proj\\xView\\train\\images\\672.tif: 1 duplicate labels removed\n",
      "\u001b[34m\u001b[1mtrain: \u001b[0mWARNING  C:\\eece490proj\\xView\\train\\images\\674.tif: 1 duplicate labels removed\n",
      "\u001b[34m\u001b[1mtrain: \u001b[0mWARNING  C:\\eece490proj\\xView\\train\\images\\680.tif: 1 duplicate labels removed\n",
      "\u001b[34m\u001b[1mtrain: \u001b[0mWARNING  C:\\eece490proj\\xView\\train\\images\\682.tif: 7 duplicate labels removed\n",
      "\u001b[34m\u001b[1mtrain: \u001b[0mWARNING  C:\\eece490proj\\xView\\train\\images\\684.tif: 7 duplicate labels removed\n",
      "\u001b[34m\u001b[1mtrain: \u001b[0mWARNING  C:\\eece490proj\\xView\\train\\images\\69.tif: 9 duplicate labels removed\n",
      "\u001b[34m\u001b[1mtrain: \u001b[0mWARNING  C:\\eece490proj\\xView\\train\\images\\692.tif: 2 duplicate labels removed\n",
      "\u001b[34m\u001b[1mtrain: \u001b[0mWARNING  C:\\eece490proj\\xView\\train\\images\\694.tif: 15 duplicate labels removed\n",
      "\u001b[34m\u001b[1mtrain: \u001b[0mWARNING  C:\\eece490proj\\xView\\train\\images\\708.tif: 2 duplicate labels removed\n",
      "\u001b[34m\u001b[1mtrain: \u001b[0mWARNING  C:\\eece490proj\\xView\\train\\images\\709.tif: 13 duplicate labels removed\n",
      "\u001b[34m\u001b[1mtrain: \u001b[0mWARNING  C:\\eece490proj\\xView\\train\\images\\711.tif: 18 duplicate labels removed\n",
      "\u001b[34m\u001b[1mtrain: \u001b[0mWARNING  C:\\eece490proj\\xView\\train\\images\\712.tif: 81 duplicate labels removed\n",
      "\u001b[34m\u001b[1mtrain: \u001b[0mWARNING  C:\\eece490proj\\xView\\train\\images\\716.tif: 262 duplicate labels removed\n",
      "\u001b[34m\u001b[1mtrain: \u001b[0mWARNING  C:\\eece490proj\\xView\\train\\images\\72.tif: 1836 duplicate labels removed\n",
      "\u001b[34m\u001b[1mtrain: \u001b[0mWARNING  C:\\eece490proj\\xView\\train\\images\\720.tif: 46 duplicate labels removed\n",
      "\u001b[34m\u001b[1mtrain: \u001b[0mWARNING  C:\\eece490proj\\xView\\train\\images\\724.tif: 407 duplicate labels removed\n",
      "\u001b[34m\u001b[1mtrain: \u001b[0mWARNING  C:\\eece490proj\\xView\\train\\images\\727.tif: 9 duplicate labels removed\n",
      "\u001b[34m\u001b[1mtrain: \u001b[0mWARNING  C:\\eece490proj\\xView\\train\\images\\732.tif: 2 duplicate labels removed\n",
      "\u001b[34m\u001b[1mtrain: \u001b[0mWARNING  C:\\eece490proj\\xView\\train\\images\\734.tif: 2 duplicate labels removed\n",
      "\u001b[34m\u001b[1mtrain: \u001b[0mWARNING  C:\\eece490proj\\xView\\train\\images\\735.tif: 302 duplicate labels removed\n",
      "\u001b[34m\u001b[1mtrain: \u001b[0mWARNING  C:\\eece490proj\\xView\\train\\images\\74.tif: 827 duplicate labels removed\n",
      "\u001b[34m\u001b[1mtrain: \u001b[0mWARNING  C:\\eece490proj\\xView\\train\\images\\740.tif: 47 duplicate labels removed\n",
      "\u001b[34m\u001b[1mtrain: \u001b[0mWARNING  C:\\eece490proj\\xView\\train\\images\\741.tif: 106 duplicate labels removed\n",
      "\u001b[34m\u001b[1mtrain: \u001b[0mWARNING  C:\\eece490proj\\xView\\train\\images\\742.tif: 2 duplicate labels removed\n",
      "\u001b[34m\u001b[1mtrain: \u001b[0mWARNING  C:\\eece490proj\\xView\\train\\images\\744.tif: 206 duplicate labels removed\n",
      "\u001b[34m\u001b[1mtrain: \u001b[0mWARNING  C:\\eece490proj\\xView\\train\\images\\75.tif: 1219 duplicate labels removed\n",
      "\u001b[34m\u001b[1mtrain: \u001b[0mWARNING  C:\\eece490proj\\xView\\train\\images\\752.tif: 2 duplicate labels removed\n",
      "\u001b[34m\u001b[1mtrain: \u001b[0mWARNING  C:\\eece490proj\\xView\\train\\images\\756.tif: 196 duplicate labels removed\n",
      "\u001b[34m\u001b[1mtrain: \u001b[0mWARNING  C:\\eece490proj\\xView\\train\\images\\760.tif: 127 duplicate labels removed\n",
      "\u001b[34m\u001b[1mtrain: \u001b[0mWARNING  C:\\eece490proj\\xView\\train\\images\\761.tif: 4 duplicate labels removed\n",
      "\u001b[34m\u001b[1mtrain: \u001b[0mWARNING  C:\\eece490proj\\xView\\train\\images\\763.tif: 21 duplicate labels removed\n",
      "\u001b[34m\u001b[1mtrain: \u001b[0mWARNING  C:\\eece490proj\\xView\\train\\images\\764.tif: 25 duplicate labels removed\n",
      "\u001b[34m\u001b[1mtrain: \u001b[0mWARNING  C:\\eece490proj\\xView\\train\\images\\765.tif: 189 duplicate labels removed\n",
      "\u001b[34m\u001b[1mtrain: \u001b[0mWARNING  C:\\eece490proj\\xView\\train\\images\\766.tif: 22 duplicate labels removed\n",
      "\u001b[34m\u001b[1mtrain: \u001b[0mWARNING  C:\\eece490proj\\xView\\train\\images\\767.tif: 10 duplicate labels removed\n",
      "\u001b[34m\u001b[1mtrain: \u001b[0mWARNING  C:\\eece490proj\\xView\\train\\images\\768.tif: 108 duplicate labels removed\n",
      "\u001b[34m\u001b[1mtrain: \u001b[0mWARNING  C:\\eece490proj\\xView\\train\\images\\769.tif: 1 duplicate labels removed\n",
      "\u001b[34m\u001b[1mtrain: \u001b[0mWARNING  C:\\eece490proj\\xView\\train\\images\\772.tif: 220 duplicate labels removed\n",
      "\u001b[34m\u001b[1mtrain: \u001b[0mWARNING  C:\\eece490proj\\xView\\train\\images\\774.tif: 928 duplicate labels removed\n",
      "\u001b[34m\u001b[1mtrain: \u001b[0mWARNING  C:\\eece490proj\\xView\\train\\images\\777.tif: 3 duplicate labels removed\n",
      "\u001b[34m\u001b[1mtrain: \u001b[0mWARNING  C:\\eece490proj\\xView\\train\\images\\781.tif: 895 duplicate labels removed\n",
      "\u001b[34m\u001b[1mtrain: \u001b[0mWARNING  C:\\eece490proj\\xView\\train\\images\\788.tif: 222 duplicate labels removed\n",
      "\u001b[34m\u001b[1mtrain: \u001b[0mWARNING  C:\\eece490proj\\xView\\train\\images\\79.tif: 1157 duplicate labels removed\n",
      "\u001b[34m\u001b[1mtrain: \u001b[0mWARNING  C:\\eece490proj\\xView\\train\\images\\791.tif: 1 duplicate labels removed\n",
      "\u001b[34m\u001b[1mtrain: \u001b[0mWARNING  C:\\eece490proj\\xView\\train\\images\\792.tif: 17 duplicate labels removed\n",
      "\u001b[34m\u001b[1mtrain: \u001b[0mWARNING  C:\\eece490proj\\xView\\train\\images\\794.tif: 14 duplicate labels removed\n",
      "\u001b[34m\u001b[1mtrain: \u001b[0mWARNING  C:\\eece490proj\\xView\\train\\images\\8.tif: 60 duplicate labels removed\n",
      "\u001b[34m\u001b[1mtrain: \u001b[0mWARNING  C:\\eece490proj\\xView\\train\\images\\80.tif: 90 duplicate labels removed\n",
      "\u001b[34m\u001b[1mtrain: \u001b[0mWARNING  C:\\eece490proj\\xView\\train\\images\\802.tif: 3 duplicate labels removed\n",
      "\u001b[34m\u001b[1mtrain: \u001b[0mWARNING  C:\\eece490proj\\xView\\train\\images\\805.tif: 164 duplicate labels removed\n",
      "\u001b[34m\u001b[1mtrain: \u001b[0mWARNING  C:\\eece490proj\\xView\\train\\images\\807.tif: 82 duplicate labels removed\n",
      "\u001b[34m\u001b[1mtrain: \u001b[0mWARNING  C:\\eece490proj\\xView\\train\\images\\813.tif: 1 duplicate labels removed\n",
      "\u001b[34m\u001b[1mtrain: \u001b[0mWARNING  C:\\eece490proj\\xView\\train\\images\\814.tif: 22 duplicate labels removed\n",
      "\u001b[34m\u001b[1mtrain: \u001b[0mWARNING  C:\\eece490proj\\xView\\train\\images\\815.tif: 16 duplicate labels removed\n",
      "\u001b[34m\u001b[1mtrain: \u001b[0mWARNING  C:\\eece490proj\\xView\\train\\images\\817.tif: 1 duplicate labels removed\n",
      "\u001b[34m\u001b[1mtrain: \u001b[0mWARNING  C:\\eece490proj\\xView\\train\\images\\819.tif: 1941 duplicate labels removed\n",
      "\u001b[34m\u001b[1mtrain: \u001b[0mWARNING  C:\\eece490proj\\xView\\train\\images\\822.tif: 3 duplicate labels removed\n",
      "\u001b[34m\u001b[1mtrain: \u001b[0mWARNING  C:\\eece490proj\\xView\\train\\images\\825.tif: 190 duplicate labels removed\n",
      "\u001b[34m\u001b[1mtrain: \u001b[0mWARNING  C:\\eece490proj\\xView\\train\\images\\83.tif: 9 duplicate labels removed\n",
      "\u001b[34m\u001b[1mtrain: \u001b[0mWARNING  C:\\eece490proj\\xView\\train\\images\\836.tif: 6 duplicate labels removed\n",
      "\u001b[34m\u001b[1mtrain: \u001b[0mWARNING  C:\\eece490proj\\xView\\train\\images\\837.tif: 16 duplicate labels removed\n",
      "\u001b[34m\u001b[1mtrain: \u001b[0mWARNING  C:\\eece490proj\\xView\\train\\images\\838.tif: 4 duplicate labels removed\n",
      "\u001b[34m\u001b[1mtrain: \u001b[0mWARNING  C:\\eece490proj\\xView\\train\\images\\84.tif: 2483 duplicate labels removed\n",
      "\u001b[34m\u001b[1mtrain: \u001b[0mWARNING  C:\\eece490proj\\xView\\train\\images\\847.tif: 204 duplicate labels removed\n",
      "\u001b[34m\u001b[1mtrain: \u001b[0mWARNING  C:\\eece490proj\\xView\\train\\images\\859.tif: 12 duplicate labels removed\n",
      "\u001b[34m\u001b[1mtrain: \u001b[0mWARNING  C:\\eece490proj\\xView\\train\\images\\86.tif: 58 duplicate labels removed\n",
      "\u001b[34m\u001b[1mtrain: \u001b[0mWARNING  C:\\eece490proj\\xView\\train\\images\\860.tif: 1738 duplicate labels removed\n",
      "\u001b[34m\u001b[1mtrain: \u001b[0mWARNING  C:\\eece490proj\\xView\\train\\images\\862.tif: 54 duplicate labels removed\n",
      "\u001b[34m\u001b[1mtrain: \u001b[0mWARNING  C:\\eece490proj\\xView\\train\\images\\863.tif: 2 duplicate labels removed\n",
      "\u001b[34m\u001b[1mtrain: \u001b[0mWARNING  C:\\eece490proj\\xView\\train\\images\\87.tif: 2 duplicate labels removed\n",
      "\u001b[34m\u001b[1mtrain: \u001b[0mWARNING  C:\\eece490proj\\xView\\train\\images\\870.tif: 200 duplicate labels removed\n",
      "\u001b[34m\u001b[1mtrain: \u001b[0mWARNING  C:\\eece490proj\\xView\\train\\images\\871.tif: 151 duplicate labels removed\n",
      "\u001b[34m\u001b[1mtrain: \u001b[0mWARNING  C:\\eece490proj\\xView\\train\\images\\88.tif: 495 duplicate labels removed\n",
      "\u001b[34m\u001b[1mtrain: \u001b[0mWARNING  C:\\eece490proj\\xView\\train\\images\\880.tif: 1317 duplicate labels removed\n",
      "\u001b[34m\u001b[1mtrain: \u001b[0mWARNING  C:\\eece490proj\\xView\\train\\images\\883.tif: 54 duplicate labels removed\n",
      "\u001b[34m\u001b[1mtrain: \u001b[0mWARNING  C:\\eece490proj\\xView\\train\\images\\884.tif: 1304 duplicate labels removed\n",
      "\u001b[34m\u001b[1mtrain: \u001b[0mWARNING  C:\\eece490proj\\xView\\train\\images\\885.tif: 326 duplicate labels removed\n",
      "\u001b[34m\u001b[1mtrain: \u001b[0mWARNING  C:\\eece490proj\\xView\\train\\images\\886.tif: 1984 duplicate labels removed\n",
      "\u001b[34m\u001b[1mtrain: \u001b[0mWARNING  C:\\eece490proj\\xView\\train\\images\\887.tif: 11 duplicate labels removed\n",
      "\u001b[34m\u001b[1mtrain: \u001b[0mWARNING  C:\\eece490proj\\xView\\train\\images\\888.tif: 1262 duplicate labels removed\n",
      "\u001b[34m\u001b[1mtrain: \u001b[0mWARNING  C:\\eece490proj\\xView\\train\\images\\889.tif: 32 duplicate labels removed\n",
      "\u001b[34m\u001b[1mtrain: \u001b[0mWARNING  C:\\eece490proj\\xView\\train\\images\\89.tif: 135 duplicate labels removed\n",
      "\u001b[34m\u001b[1mtrain: \u001b[0mWARNING  C:\\eece490proj\\xView\\train\\images\\892.tif: 3 duplicate labels removed\n",
      "\u001b[34m\u001b[1mtrain: \u001b[0mWARNING  C:\\eece490proj\\xView\\train\\images\\893.tif: 33 duplicate labels removed\n",
      "\u001b[34m\u001b[1mtrain: \u001b[0mWARNING  C:\\eece490proj\\xView\\train\\images\\894.tif: 3 duplicate labels removed\n",
      "\u001b[34m\u001b[1mtrain: \u001b[0mWARNING  C:\\eece490proj\\xView\\train\\images\\895.tif: 4 duplicate labels removed\n",
      "\u001b[34m\u001b[1mtrain: \u001b[0mWARNING  C:\\eece490proj\\xView\\train\\images\\90.tif: 279 duplicate labels removed\n",
      "\u001b[34m\u001b[1mtrain: \u001b[0mWARNING  C:\\eece490proj\\xView\\train\\images\\903.tif: 1464 duplicate labels removed\n",
      "\u001b[34m\u001b[1mtrain: \u001b[0mWARNING  C:\\eece490proj\\xView\\train\\images\\905.tif: 2011 duplicate labels removed\n",
      "\u001b[34m\u001b[1mtrain: \u001b[0mWARNING  C:\\eece490proj\\xView\\train\\images\\907.tif: 614 duplicate labels removed\n",
      "\u001b[34m\u001b[1mtrain: \u001b[0mWARNING  C:\\eece490proj\\xView\\train\\images\\91.tif: 1604 duplicate labels removed\n",
      "\u001b[34m\u001b[1mtrain: \u001b[0mWARNING  C:\\eece490proj\\xView\\train\\images\\910.tif: 49 duplicate labels removed\n",
      "\u001b[34m\u001b[1mtrain: \u001b[0mWARNING  C:\\eece490proj\\xView\\train\\images\\914.tif: 119 duplicate labels removed\n",
      "\u001b[34m\u001b[1mtrain: \u001b[0mWARNING  C:\\eece490proj\\xView\\train\\images\\92.tif: 174 duplicate labels removed\n",
      "\u001b[34m\u001b[1mtrain: \u001b[0mWARNING  C:\\eece490proj\\xView\\train\\images\\924.tif: 7 duplicate labels removed\n",
      "\u001b[34m\u001b[1mtrain: \u001b[0mWARNING  C:\\eece490proj\\xView\\train\\images\\926.tif: 54 duplicate labels removed\n",
      "\u001b[34m\u001b[1mtrain: \u001b[0mWARNING  C:\\eece490proj\\xView\\train\\images\\927.tif: 421 duplicate labels removed\n",
      "\u001b[34m\u001b[1mtrain: \u001b[0mWARNING  C:\\eece490proj\\xView\\train\\images\\928.tif: 73 duplicate labels removed\n",
      "\u001b[34m\u001b[1mtrain: \u001b[0mWARNING  C:\\eece490proj\\xView\\train\\images\\930.tif: 1 duplicate labels removed\n",
      "\u001b[34m\u001b[1mtrain: \u001b[0mWARNING  C:\\eece490proj\\xView\\train\\images\\931.tif: 31 duplicate labels removed\n",
      "\u001b[34m\u001b[1mtrain: \u001b[0mWARNING  C:\\eece490proj\\xView\\train\\images\\94.tif: 830 duplicate labels removed\n",
      "\u001b[34m\u001b[1mtrain: \u001b[0mWARNING  C:\\eece490proj\\xView\\train\\images\\942.tif: 18 duplicate labels removed\n",
      "\u001b[34m\u001b[1mtrain: \u001b[0mWARNING  C:\\eece490proj\\xView\\train\\images\\946.tif: 7 duplicate labels removed\n",
      "\u001b[34m\u001b[1mtrain: \u001b[0mWARNING  C:\\eece490proj\\xView\\train\\images\\95.tif: 86 duplicate labels removed\n",
      "\u001b[34m\u001b[1mtrain: \u001b[0mWARNING  C:\\eece490proj\\xView\\train\\images\\959.tif: 3 duplicate labels removed\n",
      "\u001b[34m\u001b[1mtrain: \u001b[0mWARNING  C:\\eece490proj\\xView\\train\\images\\960.tif: 35 duplicate labels removed\n",
      "\u001b[34m\u001b[1mtrain: \u001b[0mWARNING  C:\\eece490proj\\xView\\train\\images\\962.tif: 23 duplicate labels removed\n",
      "\u001b[34m\u001b[1mtrain: \u001b[0mWARNING  C:\\eece490proj\\xView\\train\\images\\968.tif: 4 duplicate labels removed\n",
      "\u001b[34m\u001b[1mtrain: \u001b[0mWARNING  C:\\eece490proj\\xView\\train\\images\\97.tif: 2086 duplicate labels removed\n",
      "\u001b[34m\u001b[1mtrain: \u001b[0mWARNING  C:\\eece490proj\\xView\\train\\images\\983.tif: 46 duplicate labels removed\n",
      "\u001b[34m\u001b[1mtrain: \u001b[0mWARNING  C:\\eece490proj\\xView\\train\\images\\986.tif: 14 duplicate labels removed\n",
      "\u001b[34m\u001b[1mtrain: \u001b[0mWARNING  C:\\eece490proj\\xView\\train\\images\\99.tif: 3250 duplicate labels removed\n",
      "\u001b[34m\u001b[1mtrain: \u001b[0mWARNING  C:\\eece490proj\\xView\\train\\images\\996.tif: 3 duplicate labels removed\n"
     ]
    },
    {
     "name": "stderr",
     "output_type": "stream",
     "text": [
      "\n",
      "\u001b[34m\u001b[1mval: \u001b[0mScanning C:\\eece490proj\\xView\\val\\labels.cache... 1 images, 0 backgrounds, 0 corrupt: 100%|██████████| 1/1 [00:00<?, ?it/s]"
     ]
    },
    {
     "name": "stdout",
     "output_type": "stream",
     "text": [
      "\u001b[34m\u001b[1mval: \u001b[0mWARNING  C:\\eece490proj\\xView\\val\\images\\73.tif: 1056 duplicate labels removed\n"
     ]
    },
    {
     "name": "stderr",
     "output_type": "stream",
     "text": [
      "\n"
     ]
    },
    {
     "name": "stdout",
     "output_type": "stream",
     "text": [
      "Plotting labels to C:\\eece490proj\\xView\\YoloTrainingOutput\\train17\\labels.jpg... \n",
      "\u001b[34m\u001b[1moptimizer:\u001b[0m 'optimizer=auto' found, ignoring 'lr0=0.01' and 'momentum=0.937' and determining best 'optimizer', 'lr0' and 'momentum' automatically... \n",
      "\u001b[34m\u001b[1moptimizer:\u001b[0m AdamW(lr=0.000156, momentum=0.9) with parameter groups 97 weight(decay=0.0), 104 weight(decay=0.0005), 103 bias(decay=0.0)\n",
      "\u001b[34m\u001b[1mTensorBoard: \u001b[0mmodel graph visualization added \n",
      "Image sizes 960 train, 960 val\n",
      "Using 8 dataloader workers\n",
      "Logging results to \u001b[1mC:\\eece490proj\\xView\\YoloTrainingOutput\\train17\u001b[0m\n",
      "Starting training for 15 epochs...\n",
      "\n",
      "      Epoch    GPU_mem   box_loss   cls_loss   dfl_loss  Instances       Size\n"
     ]
    },
    {
     "name": "stderr",
     "output_type": "stream",
     "text": [
      "       1/15      25.8G      2.657      3.394      1.324       4877        960: 100%|██████████| 93/93 [11:05<00:00,  7.15s/it]\n",
      "                 Class     Images  Instances      Box(P          R      mAP50  mAP50-95): 100%|██████████| 1/1 [00:00<00:00,  4.66it/s]"
     ]
    },
    {
     "name": "stdout",
     "output_type": "stream",
     "text": [
      "                   all          1       1056     0.0186     0.0243     0.0179    0.00895\n"
     ]
    },
    {
     "name": "stderr",
     "output_type": "stream",
     "text": [
      "\n"
     ]
    },
    {
     "name": "stdout",
     "output_type": "stream",
     "text": [
      "\n",
      "      Epoch    GPU_mem   box_loss   cls_loss   dfl_loss  Instances       Size\n"
     ]
    },
    {
     "name": "stderr",
     "output_type": "stream",
     "text": [
      "       2/15      34.3G      2.322      1.852      1.179       5322        960: 100%|██████████| 93/93 [06:55<00:00,  4.46s/it]\n",
      "                 Class     Images  Instances      Box(P          R      mAP50  mAP50-95): 100%|██████████| 1/1 [00:00<00:00, 17.22it/s]"
     ]
    },
    {
     "name": "stdout",
     "output_type": "stream",
     "text": [
      "                   all          1       1056      0.022     0.0282     0.0217     0.0117\n"
     ]
    },
    {
     "name": "stderr",
     "output_type": "stream",
     "text": [
      "\n"
     ]
    },
    {
     "name": "stdout",
     "output_type": "stream",
     "text": [
      "\n",
      "      Epoch    GPU_mem   box_loss   cls_loss   dfl_loss  Instances       Size\n"
     ]
    },
    {
     "name": "stderr",
     "output_type": "stream",
     "text": [
      "       3/15      32.9G      2.272      1.767      1.147       1535        960: 100%|██████████| 93/93 [14:42<00:00,  9.49s/it]\n",
      "                 Class     Images  Instances      Box(P          R      mAP50  mAP50-95): 100%|██████████| 1/1 [00:00<00:00, 11.47it/s]"
     ]
    },
    {
     "name": "stdout",
     "output_type": "stream",
     "text": [
      "                   all          1       1056     0.0638     0.0424      0.053     0.0319\n"
     ]
    },
    {
     "name": "stderr",
     "output_type": "stream",
     "text": [
      "\n"
     ]
    },
    {
     "name": "stdout",
     "output_type": "stream",
     "text": [
      "\n",
      "      Epoch    GPU_mem   box_loss   cls_loss   dfl_loss  Instances       Size\n"
     ]
    },
    {
     "name": "stderr",
     "output_type": "stream",
     "text": [
      "       4/15      42.5G      2.318      1.834      1.138       1289        960: 100%|██████████| 93/93 [17:28<00:00, 11.27s/it]\n",
      "                 Class     Images  Instances      Box(P          R      mAP50  mAP50-95): 100%|██████████| 1/1 [00:00<00:00, 11.11it/s]"
     ]
    },
    {
     "name": "stdout",
     "output_type": "stream",
     "text": [
      "                   all          1       1056     0.0691     0.0481     0.0563     0.0323\n"
     ]
    },
    {
     "name": "stderr",
     "output_type": "stream",
     "text": [
      "\n"
     ]
    },
    {
     "name": "stdout",
     "output_type": "stream",
     "text": [
      "\n",
      "      Epoch    GPU_mem   box_loss   cls_loss   dfl_loss  Instances       Size\n"
     ]
    },
    {
     "name": "stderr",
     "output_type": "stream",
     "text": [
      "       5/15      19.6G      2.272      1.744      1.143       3886        960: 100%|██████████| 93/93 [16:17<00:00, 10.51s/it]\n",
      "                 Class     Images  Instances      Box(P          R      mAP50  mAP50-95): 100%|██████████| 1/1 [00:00<00:00,  1.08it/s]"
     ]
    },
    {
     "name": "stdout",
     "output_type": "stream",
     "text": [
      "                   all          1       1056     0.0678     0.0477     0.0578      0.034\n"
     ]
    },
    {
     "name": "stderr",
     "output_type": "stream",
     "text": [
      "\n"
     ]
    },
    {
     "name": "stdout",
     "output_type": "stream",
     "text": [
      "Closing dataloader mosaic\n",
      "\n",
      "      Epoch    GPU_mem   box_loss   cls_loss   dfl_loss  Instances       Size\n"
     ]
    },
    {
     "name": "stderr",
     "output_type": "stream",
     "text": [
      "       6/15      42.3G      2.203      2.283      1.133       3019        960: 100%|██████████| 93/93 [08:07<00:00,  5.24s/it]\n",
      "                 Class     Images  Instances      Box(P          R      mAP50  mAP50-95): 100%|██████████| 1/1 [00:00<00:00, 12.31it/s]"
     ]
    },
    {
     "name": "stdout",
     "output_type": "stream",
     "text": [
      "                   all          1       1056      0.107     0.0607     0.0796     0.0412\n"
     ]
    },
    {
     "name": "stderr",
     "output_type": "stream",
     "text": [
      "\n"
     ]
    },
    {
     "name": "stdout",
     "output_type": "stream",
     "text": [
      "\n",
      "      Epoch    GPU_mem   box_loss   cls_loss   dfl_loss  Instances       Size\n"
     ]
    },
    {
     "name": "stderr",
     "output_type": "stream",
     "text": [
      "       7/15      40.4G      2.234      2.223      1.203       1753        960: 100%|██████████| 93/93 [15:39<00:00, 10.10s/it]\n",
      "                 Class     Images  Instances      Box(P          R      mAP50  mAP50-95): 100%|██████████| 1/1 [00:00<00:00,  8.63it/s]"
     ]
    },
    {
     "name": "stdout",
     "output_type": "stream",
     "text": [
      "                   all          1       1056      0.104     0.0446     0.0627     0.0331\n"
     ]
    },
    {
     "name": "stderr",
     "output_type": "stream",
     "text": [
      "\n"
     ]
    },
    {
     "name": "stdout",
     "output_type": "stream",
     "text": [
      "\n",
      "      Epoch    GPU_mem   box_loss   cls_loss   dfl_loss  Instances       Size\n"
     ]
    },
    {
     "name": "stderr",
     "output_type": "stream",
     "text": [
      "       8/15      26.9G      2.205      1.818      1.129         80        960: 100%|██████████| 93/93 [13:44<00:00,  8.86s/it] \n",
      "                 Class     Images  Instances      Box(P          R      mAP50  mAP50-95): 100%|██████████| 1/1 [00:00<00:00, 10.69it/s]"
     ]
    },
    {
     "name": "stdout",
     "output_type": "stream",
     "text": [
      "                   all          1       1056     0.0803     0.0418     0.0597     0.0347\n"
     ]
    },
    {
     "name": "stderr",
     "output_type": "stream",
     "text": [
      "\n"
     ]
    },
    {
     "name": "stdout",
     "output_type": "stream",
     "text": [
      "\n",
      "      Epoch    GPU_mem   box_loss   cls_loss   dfl_loss  Instances       Size\n"
     ]
    },
    {
     "name": "stderr",
     "output_type": "stream",
     "text": [
      "       9/15      27.8G      2.175      1.766      1.146        954        960: 100%|██████████| 93/93 [15:21<00:00,  9.91s/it]\n",
      "                 Class     Images  Instances      Box(P          R      mAP50  mAP50-95): 100%|██████████| 1/1 [00:00<00:00, 13.68it/s]"
     ]
    },
    {
     "name": "stdout",
     "output_type": "stream",
     "text": [
      "                   all          1       1056     0.0846     0.0499      0.064     0.0364\n"
     ]
    },
    {
     "name": "stderr",
     "output_type": "stream",
     "text": [
      "\n"
     ]
    },
    {
     "name": "stdout",
     "output_type": "stream",
     "text": [
      "\n",
      "      Epoch    GPU_mem   box_loss   cls_loss   dfl_loss  Instances       Size\n"
     ]
    },
    {
     "name": "stderr",
     "output_type": "stream",
     "text": [
      "      10/15      42.2G      2.143      1.722      1.129       3111        960: 100%|██████████| 93/93 [08:34<00:00,  5.53s/it]\n",
      "                 Class     Images  Instances      Box(P          R      mAP50  mAP50-95): 100%|██████████| 1/1 [00:00<00:00, 13.89it/s]"
     ]
    },
    {
     "name": "stdout",
     "output_type": "stream",
     "text": [
      "                   all          1       1056      0.109      0.054     0.0781     0.0426\n"
     ]
    },
    {
     "name": "stderr",
     "output_type": "stream",
     "text": [
      "\n"
     ]
    },
    {
     "name": "stdout",
     "output_type": "stream",
     "text": [
      "\n",
      "      Epoch    GPU_mem   box_loss   cls_loss   dfl_loss  Instances       Size\n"
     ]
    },
    {
     "name": "stderr",
     "output_type": "stream",
     "text": [
      "      11/15      35.5G      2.152      1.631      1.117       2210        960: 100%|██████████| 93/93 [29:50<00:00, 19.25s/it]\n",
      "                 Class     Images  Instances      Box(P          R      mAP50  mAP50-95): 100%|██████████| 1/1 [00:02<00:00,  2.79s/it]"
     ]
    },
    {
     "name": "stdout",
     "output_type": "stream",
     "text": [
      "                   all          1       1056      0.155     0.0462     0.0709     0.0428\n"
     ]
    },
    {
     "name": "stderr",
     "output_type": "stream",
     "text": [
      "\n"
     ]
    },
    {
     "name": "stdout",
     "output_type": "stream",
     "text": [
      "\n",
      "      Epoch    GPU_mem   box_loss   cls_loss   dfl_loss  Instances       Size\n"
     ]
    },
    {
     "name": "stderr",
     "output_type": "stream",
     "text": [
      "      12/15      23.4G      2.116      1.745      1.122       2310        960: 100%|██████████| 93/93 [08:30<00:00,  5.49s/it]\n",
      "                 Class     Images  Instances      Box(P          R      mAP50  mAP50-95): 100%|██████████| 1/1 [00:00<00:00,  5.31it/s]"
     ]
    },
    {
     "name": "stdout",
     "output_type": "stream",
     "text": [
      "                   all          1       1056      0.103     0.0496     0.0704     0.0423\n"
     ]
    },
    {
     "name": "stderr",
     "output_type": "stream",
     "text": [
      "\n"
     ]
    },
    {
     "name": "stdout",
     "output_type": "stream",
     "text": [
      "\n",
      "      Epoch    GPU_mem   box_loss   cls_loss   dfl_loss  Instances       Size\n"
     ]
    },
    {
     "name": "stderr",
     "output_type": "stream",
     "text": [
      "      13/15      28.6G      2.104      1.611       1.12        670        960: 100%|██████████| 93/93 [11:40<00:00,  7.53s/it]\n",
      "                 Class     Images  Instances      Box(P          R      mAP50  mAP50-95): 100%|██████████| 1/1 [00:00<00:00,  8.99it/s]"
     ]
    },
    {
     "name": "stdout",
     "output_type": "stream",
     "text": [
      "                   all          1       1056     0.0998     0.0505     0.0734     0.0426\n"
     ]
    },
    {
     "name": "stderr",
     "output_type": "stream",
     "text": [
      "\n"
     ]
    },
    {
     "name": "stdout",
     "output_type": "stream",
     "text": [
      "\n",
      "      Epoch    GPU_mem   box_loss   cls_loss   dfl_loss  Instances       Size\n"
     ]
    },
    {
     "name": "stderr",
     "output_type": "stream",
     "text": [
      "      14/15      34.8G      2.102      1.548      1.094       3965        960: 100%|██████████| 93/93 [39:10<00:00, 25.28s/it]\n",
      "                 Class     Images  Instances      Box(P          R      mAP50  mAP50-95): 100%|██████████| 1/1 [00:03<00:00,  3.51s/it]"
     ]
    },
    {
     "name": "stdout",
     "output_type": "stream",
     "text": [
      "                   all          1       1056     0.0978     0.0516     0.0729     0.0437\n"
     ]
    },
    {
     "name": "stderr",
     "output_type": "stream",
     "text": [
      "\n"
     ]
    },
    {
     "name": "stdout",
     "output_type": "stream",
     "text": [
      "\n",
      "      Epoch    GPU_mem   box_loss   cls_loss   dfl_loss  Instances       Size\n"
     ]
    },
    {
     "name": "stderr",
     "output_type": "stream",
     "text": [
      "      15/15      30.1G       2.08       1.51      1.105       1348        960: 100%|██████████| 93/93 [19:08<00:00, 12.35s/it]\n",
      "                 Class     Images  Instances      Box(P          R      mAP50  mAP50-95): 100%|██████████| 1/1 [00:00<00:00,  9.22it/s]"
     ]
    },
    {
     "name": "stdout",
     "output_type": "stream",
     "text": [
      "                   all          1       1056     0.0983     0.0508     0.0674     0.0396\n"
     ]
    },
    {
     "name": "stderr",
     "output_type": "stream",
     "text": [
      "\n"
     ]
    },
    {
     "name": "stdout",
     "output_type": "stream",
     "text": [
      "\n",
      "15 epochs completed in 3.958 hours.\n",
      "Optimizer stripped from C:\\eece490proj\\xView\\YoloTrainingOutput\\train17\\weights\\last.pt, 87.8MB\n",
      "Optimizer stripped from C:\\eece490proj\\xView\\YoloTrainingOutput\\train17\\weights\\best.pt, 87.8MB\n",
      "\n",
      "Validating C:\\eece490proj\\xView\\YoloTrainingOutput\\train17\\weights\\best.pt...\n",
      "Ultralytics YOLOv8.2.2  Python-3.12.2 torch-2.2.0+cu121 CUDA:0 (NVIDIA GeForce RTX 4080 Laptop GPU, 12282MiB)\n",
      "Model summary (fused): 268 layers, 43652868 parameters, 0 gradients, 165.1 GFLOPs\n"
     ]
    },
    {
     "name": "stderr",
     "output_type": "stream",
     "text": [
      "                 Class     Images  Instances      Box(P          R      mAP50  mAP50-95): 100%|██████████| 1/1 [00:00<00:00,  3.42it/s]\n"
     ]
    },
    {
     "name": "stdout",
     "output_type": "stream",
     "text": [
      "                   all          1       1056     0.0977     0.0516     0.0729     0.0436\n",
      "             Small Car          1        670      0.203    0.00448     0.0921     0.0158\n",
      "                   Bus          1         14          0          0          0          0\n",
      "         Utility Truck          1         11          0          0          0          0\n",
      "                 Truck          1        112          0          0          0          0\n",
      "           Cargo Truck          1         29          0          0          0          0\n",
      "           Truck w/Box          1         11          0          0          0          0\n",
      "               Trailer          1          2          0          0          0          0\n",
      "       Truck w/Flatbed          1          1          0          0          0          0\n",
      "        Truck w/Liquid          1          1          0          0          0          0\n",
      "             Motorboat          1          4          0          0          0          0\n",
      "            Dump Truck          1          7          0          0          0          0\n",
      "Front loader/Bulldozer          1          4          0          0          0          0\n",
      "             Excavator          1          4          0          0          0          0\n",
      "          Cement Mixer          1          2          0          0          0          0\n",
      "              Building          1        154      0.566      0.552      0.533      0.292\n",
      "              Facility          1          4          0          0          0          0\n",
      "           Vehicle Lot          1         11      0.233     0.0909      0.159     0.0797\n",
      "          Storage Tank          1         12      0.854      0.333        0.6      0.441\n",
      "                 Pylon          1          3          0          0          0          0\n",
      "Speed: 0.9ms preprocess, 221.0ms inference, 0.0ms loss, 9.0ms postprocess per image\n",
      "Results saved to \u001b[1mC:\\eece490proj\\xView\\YoloTrainingOutput\\train17\u001b[0m\n"
     ]
    }
   ],
   "source": [
    "##### Import the downloaded model from xView Yolo Ultralytics and put it in the eece490proj Folder\n",
    "# Also Place the .yaml file(code in cell below) also in the xView Folder\n",
    "\n",
    "# load a pretrained model onto GPU\n",
    "model = YOLO('yolov8l.pt') \n",
    "freeze = 22 #backbone layers\n",
    "freeze = [f'model.{x}.' for x in range(freeze)] # layers to freeze\n",
    "count = 0 \n",
    "all = 0\n",
    "for k, v in model.model.named_parameters():\n",
    "    all+=1\n",
    "    v.requires_grad = True # train all layers\n",
    "    if any(x in k for x in freeze):\n",
    "        v.requires_grad = False\n",
    "    else :\n",
    "        count+=1\n",
    "print(f'total layers: {all}, trainable layers: {count}, percentage: {count*100/all}%')\n",
    "## Train the model(REMOVE BEFORE SUBMITTING->before training iza guys can check how to store and use the results to be used later inno ka variable results shu mafrood na3mol ba3den)\n",
    "results = model.train(data='C://eece490proj//xView//xView.yaml', epochs=15, imgsz=960, device=0, batch =4, save = True, project = 'C://eece490proj//xView//YoloTrainingOutput' )\n",
    "\n",
    "\n",
    "#IF model.train results in a FileNotFoundError there is an issue with ur paths\n",
    "#IF model.train results in a NotImplementedError there is an issue with ur Cuda/PyTorch Compatibility-> run !pip3 install torch==2.2.0+cu121 torchvision==0.17.0+cu121 torchaudio===2.2.0+cu121 --index-url https://download.pytorch.org/whl/cu121 "
   ]
  },
  {
   "cell_type": "markdown",
   "id": "b6c8656f",
   "metadata": {},
   "source": [
    "**HERE WE ARE PRINTING THE BEST MODEL WE GOT TO BE ABLE TO VISUALIZE THE LAYERS**"
   ]
  },
  {
   "cell_type": "code",
   "execution_count": 5,
   "id": "2288ff50",
   "metadata": {},
   "outputs": [
    {
     "data": {
      "text/plain": [
       "YOLO(\n",
       "  (model): DetectionModel(\n",
       "    (model): Sequential(\n",
       "      (0): Conv(\n",
       "        (conv): Conv2d(3, 64, kernel_size=(3, 3), stride=(2, 2), padding=(1, 1), bias=False)\n",
       "        (bn): BatchNorm2d(64, eps=0.001, momentum=0.03, affine=True, track_running_stats=True)\n",
       "        (act): SiLU(inplace=True)\n",
       "      )\n",
       "      (1): Conv(\n",
       "        (conv): Conv2d(64, 128, kernel_size=(3, 3), stride=(2, 2), padding=(1, 1), bias=False)\n",
       "        (bn): BatchNorm2d(128, eps=0.001, momentum=0.03, affine=True, track_running_stats=True)\n",
       "        (act): SiLU(inplace=True)\n",
       "      )\n",
       "      (2): C2f(\n",
       "        (cv1): Conv(\n",
       "          (conv): Conv2d(128, 128, kernel_size=(1, 1), stride=(1, 1), bias=False)\n",
       "          (bn): BatchNorm2d(128, eps=0.001, momentum=0.03, affine=True, track_running_stats=True)\n",
       "          (act): SiLU(inplace=True)\n",
       "        )\n",
       "        (cv2): Conv(\n",
       "          (conv): Conv2d(320, 128, kernel_size=(1, 1), stride=(1, 1), bias=False)\n",
       "          (bn): BatchNorm2d(128, eps=0.001, momentum=0.03, affine=True, track_running_stats=True)\n",
       "          (act): SiLU(inplace=True)\n",
       "        )\n",
       "        (m): ModuleList(\n",
       "          (0-2): 3 x Bottleneck(\n",
       "            (cv1): Conv(\n",
       "              (conv): Conv2d(64, 64, kernel_size=(3, 3), stride=(1, 1), padding=(1, 1), bias=False)\n",
       "              (bn): BatchNorm2d(64, eps=0.001, momentum=0.03, affine=True, track_running_stats=True)\n",
       "              (act): SiLU(inplace=True)\n",
       "            )\n",
       "            (cv2): Conv(\n",
       "              (conv): Conv2d(64, 64, kernel_size=(3, 3), stride=(1, 1), padding=(1, 1), bias=False)\n",
       "              (bn): BatchNorm2d(64, eps=0.001, momentum=0.03, affine=True, track_running_stats=True)\n",
       "              (act): SiLU(inplace=True)\n",
       "            )\n",
       "          )\n",
       "        )\n",
       "      )\n",
       "      (3): Conv(\n",
       "        (conv): Conv2d(128, 256, kernel_size=(3, 3), stride=(2, 2), padding=(1, 1), bias=False)\n",
       "        (bn): BatchNorm2d(256, eps=0.001, momentum=0.03, affine=True, track_running_stats=True)\n",
       "        (act): SiLU(inplace=True)\n",
       "      )\n",
       "      (4): C2f(\n",
       "        (cv1): Conv(\n",
       "          (conv): Conv2d(256, 256, kernel_size=(1, 1), stride=(1, 1), bias=False)\n",
       "          (bn): BatchNorm2d(256, eps=0.001, momentum=0.03, affine=True, track_running_stats=True)\n",
       "          (act): SiLU(inplace=True)\n",
       "        )\n",
       "        (cv2): Conv(\n",
       "          (conv): Conv2d(1024, 256, kernel_size=(1, 1), stride=(1, 1), bias=False)\n",
       "          (bn): BatchNorm2d(256, eps=0.001, momentum=0.03, affine=True, track_running_stats=True)\n",
       "          (act): SiLU(inplace=True)\n",
       "        )\n",
       "        (m): ModuleList(\n",
       "          (0-5): 6 x Bottleneck(\n",
       "            (cv1): Conv(\n",
       "              (conv): Conv2d(128, 128, kernel_size=(3, 3), stride=(1, 1), padding=(1, 1), bias=False)\n",
       "              (bn): BatchNorm2d(128, eps=0.001, momentum=0.03, affine=True, track_running_stats=True)\n",
       "              (act): SiLU(inplace=True)\n",
       "            )\n",
       "            (cv2): Conv(\n",
       "              (conv): Conv2d(128, 128, kernel_size=(3, 3), stride=(1, 1), padding=(1, 1), bias=False)\n",
       "              (bn): BatchNorm2d(128, eps=0.001, momentum=0.03, affine=True, track_running_stats=True)\n",
       "              (act): SiLU(inplace=True)\n",
       "            )\n",
       "          )\n",
       "        )\n",
       "      )\n",
       "      (5): Conv(\n",
       "        (conv): Conv2d(256, 512, kernel_size=(3, 3), stride=(2, 2), padding=(1, 1), bias=False)\n",
       "        (bn): BatchNorm2d(512, eps=0.001, momentum=0.03, affine=True, track_running_stats=True)\n",
       "        (act): SiLU(inplace=True)\n",
       "      )\n",
       "      (6): C2f(\n",
       "        (cv1): Conv(\n",
       "          (conv): Conv2d(512, 512, kernel_size=(1, 1), stride=(1, 1), bias=False)\n",
       "          (bn): BatchNorm2d(512, eps=0.001, momentum=0.03, affine=True, track_running_stats=True)\n",
       "          (act): SiLU(inplace=True)\n",
       "        )\n",
       "        (cv2): Conv(\n",
       "          (conv): Conv2d(2048, 512, kernel_size=(1, 1), stride=(1, 1), bias=False)\n",
       "          (bn): BatchNorm2d(512, eps=0.001, momentum=0.03, affine=True, track_running_stats=True)\n",
       "          (act): SiLU(inplace=True)\n",
       "        )\n",
       "        (m): ModuleList(\n",
       "          (0-5): 6 x Bottleneck(\n",
       "            (cv1): Conv(\n",
       "              (conv): Conv2d(256, 256, kernel_size=(3, 3), stride=(1, 1), padding=(1, 1), bias=False)\n",
       "              (bn): BatchNorm2d(256, eps=0.001, momentum=0.03, affine=True, track_running_stats=True)\n",
       "              (act): SiLU(inplace=True)\n",
       "            )\n",
       "            (cv2): Conv(\n",
       "              (conv): Conv2d(256, 256, kernel_size=(3, 3), stride=(1, 1), padding=(1, 1), bias=False)\n",
       "              (bn): BatchNorm2d(256, eps=0.001, momentum=0.03, affine=True, track_running_stats=True)\n",
       "              (act): SiLU(inplace=True)\n",
       "            )\n",
       "          )\n",
       "        )\n",
       "      )\n",
       "      (7): Conv(\n",
       "        (conv): Conv2d(512, 512, kernel_size=(3, 3), stride=(2, 2), padding=(1, 1), bias=False)\n",
       "        (bn): BatchNorm2d(512, eps=0.001, momentum=0.03, affine=True, track_running_stats=True)\n",
       "        (act): SiLU(inplace=True)\n",
       "      )\n",
       "      (8): C2f(\n",
       "        (cv1): Conv(\n",
       "          (conv): Conv2d(512, 512, kernel_size=(1, 1), stride=(1, 1), bias=False)\n",
       "          (bn): BatchNorm2d(512, eps=0.001, momentum=0.03, affine=True, track_running_stats=True)\n",
       "          (act): SiLU(inplace=True)\n",
       "        )\n",
       "        (cv2): Conv(\n",
       "          (conv): Conv2d(1280, 512, kernel_size=(1, 1), stride=(1, 1), bias=False)\n",
       "          (bn): BatchNorm2d(512, eps=0.001, momentum=0.03, affine=True, track_running_stats=True)\n",
       "          (act): SiLU(inplace=True)\n",
       "        )\n",
       "        (m): ModuleList(\n",
       "          (0-2): 3 x Bottleneck(\n",
       "            (cv1): Conv(\n",
       "              (conv): Conv2d(256, 256, kernel_size=(3, 3), stride=(1, 1), padding=(1, 1), bias=False)\n",
       "              (bn): BatchNorm2d(256, eps=0.001, momentum=0.03, affine=True, track_running_stats=True)\n",
       "              (act): SiLU(inplace=True)\n",
       "            )\n",
       "            (cv2): Conv(\n",
       "              (conv): Conv2d(256, 256, kernel_size=(3, 3), stride=(1, 1), padding=(1, 1), bias=False)\n",
       "              (bn): BatchNorm2d(256, eps=0.001, momentum=0.03, affine=True, track_running_stats=True)\n",
       "              (act): SiLU(inplace=True)\n",
       "            )\n",
       "          )\n",
       "        )\n",
       "      )\n",
       "      (9): SPPF(\n",
       "        (cv1): Conv(\n",
       "          (conv): Conv2d(512, 256, kernel_size=(1, 1), stride=(1, 1), bias=False)\n",
       "          (bn): BatchNorm2d(256, eps=0.001, momentum=0.03, affine=True, track_running_stats=True)\n",
       "          (act): SiLU(inplace=True)\n",
       "        )\n",
       "        (cv2): Conv(\n",
       "          (conv): Conv2d(1024, 512, kernel_size=(1, 1), stride=(1, 1), bias=False)\n",
       "          (bn): BatchNorm2d(512, eps=0.001, momentum=0.03, affine=True, track_running_stats=True)\n",
       "          (act): SiLU(inplace=True)\n",
       "        )\n",
       "        (m): MaxPool2d(kernel_size=5, stride=1, padding=2, dilation=1, ceil_mode=False)\n",
       "      )\n",
       "      (10): Upsample(scale_factor=2.0, mode='nearest')\n",
       "      (11): Concat()\n",
       "      (12): C2f(\n",
       "        (cv1): Conv(\n",
       "          (conv): Conv2d(1024, 512, kernel_size=(1, 1), stride=(1, 1), bias=False)\n",
       "          (bn): BatchNorm2d(512, eps=0.001, momentum=0.03, affine=True, track_running_stats=True)\n",
       "          (act): SiLU(inplace=True)\n",
       "        )\n",
       "        (cv2): Conv(\n",
       "          (conv): Conv2d(1280, 512, kernel_size=(1, 1), stride=(1, 1), bias=False)\n",
       "          (bn): BatchNorm2d(512, eps=0.001, momentum=0.03, affine=True, track_running_stats=True)\n",
       "          (act): SiLU(inplace=True)\n",
       "        )\n",
       "        (m): ModuleList(\n",
       "          (0-2): 3 x Bottleneck(\n",
       "            (cv1): Conv(\n",
       "              (conv): Conv2d(256, 256, kernel_size=(3, 3), stride=(1, 1), padding=(1, 1), bias=False)\n",
       "              (bn): BatchNorm2d(256, eps=0.001, momentum=0.03, affine=True, track_running_stats=True)\n",
       "              (act): SiLU(inplace=True)\n",
       "            )\n",
       "            (cv2): Conv(\n",
       "              (conv): Conv2d(256, 256, kernel_size=(3, 3), stride=(1, 1), padding=(1, 1), bias=False)\n",
       "              (bn): BatchNorm2d(256, eps=0.001, momentum=0.03, affine=True, track_running_stats=True)\n",
       "              (act): SiLU(inplace=True)\n",
       "            )\n",
       "          )\n",
       "        )\n",
       "      )\n",
       "      (13): Upsample(scale_factor=2.0, mode='nearest')\n",
       "      (14): Concat()\n",
       "      (15): C2f(\n",
       "        (cv1): Conv(\n",
       "          (conv): Conv2d(768, 256, kernel_size=(1, 1), stride=(1, 1), bias=False)\n",
       "          (bn): BatchNorm2d(256, eps=0.001, momentum=0.03, affine=True, track_running_stats=True)\n",
       "          (act): SiLU(inplace=True)\n",
       "        )\n",
       "        (cv2): Conv(\n",
       "          (conv): Conv2d(640, 256, kernel_size=(1, 1), stride=(1, 1), bias=False)\n",
       "          (bn): BatchNorm2d(256, eps=0.001, momentum=0.03, affine=True, track_running_stats=True)\n",
       "          (act): SiLU(inplace=True)\n",
       "        )\n",
       "        (m): ModuleList(\n",
       "          (0-2): 3 x Bottleneck(\n",
       "            (cv1): Conv(\n",
       "              (conv): Conv2d(128, 128, kernel_size=(3, 3), stride=(1, 1), padding=(1, 1), bias=False)\n",
       "              (bn): BatchNorm2d(128, eps=0.001, momentum=0.03, affine=True, track_running_stats=True)\n",
       "              (act): SiLU(inplace=True)\n",
       "            )\n",
       "            (cv2): Conv(\n",
       "              (conv): Conv2d(128, 128, kernel_size=(3, 3), stride=(1, 1), padding=(1, 1), bias=False)\n",
       "              (bn): BatchNorm2d(128, eps=0.001, momentum=0.03, affine=True, track_running_stats=True)\n",
       "              (act): SiLU(inplace=True)\n",
       "            )\n",
       "          )\n",
       "        )\n",
       "      )\n",
       "      (16): Conv(\n",
       "        (conv): Conv2d(256, 256, kernel_size=(3, 3), stride=(2, 2), padding=(1, 1), bias=False)\n",
       "        (bn): BatchNorm2d(256, eps=0.001, momentum=0.03, affine=True, track_running_stats=True)\n",
       "        (act): SiLU(inplace=True)\n",
       "      )\n",
       "      (17): Concat()\n",
       "      (18): C2f(\n",
       "        (cv1): Conv(\n",
       "          (conv): Conv2d(768, 512, kernel_size=(1, 1), stride=(1, 1), bias=False)\n",
       "          (bn): BatchNorm2d(512, eps=0.001, momentum=0.03, affine=True, track_running_stats=True)\n",
       "          (act): SiLU(inplace=True)\n",
       "        )\n",
       "        (cv2): Conv(\n",
       "          (conv): Conv2d(1280, 512, kernel_size=(1, 1), stride=(1, 1), bias=False)\n",
       "          (bn): BatchNorm2d(512, eps=0.001, momentum=0.03, affine=True, track_running_stats=True)\n",
       "          (act): SiLU(inplace=True)\n",
       "        )\n",
       "        (m): ModuleList(\n",
       "          (0-2): 3 x Bottleneck(\n",
       "            (cv1): Conv(\n",
       "              (conv): Conv2d(256, 256, kernel_size=(3, 3), stride=(1, 1), padding=(1, 1), bias=False)\n",
       "              (bn): BatchNorm2d(256, eps=0.001, momentum=0.03, affine=True, track_running_stats=True)\n",
       "              (act): SiLU(inplace=True)\n",
       "            )\n",
       "            (cv2): Conv(\n",
       "              (conv): Conv2d(256, 256, kernel_size=(3, 3), stride=(1, 1), padding=(1, 1), bias=False)\n",
       "              (bn): BatchNorm2d(256, eps=0.001, momentum=0.03, affine=True, track_running_stats=True)\n",
       "              (act): SiLU(inplace=True)\n",
       "            )\n",
       "          )\n",
       "        )\n",
       "      )\n",
       "      (19): Conv(\n",
       "        (conv): Conv2d(512, 512, kernel_size=(3, 3), stride=(2, 2), padding=(1, 1), bias=False)\n",
       "        (bn): BatchNorm2d(512, eps=0.001, momentum=0.03, affine=True, track_running_stats=True)\n",
       "        (act): SiLU(inplace=True)\n",
       "      )\n",
       "      (20): Concat()\n",
       "      (21): C2f(\n",
       "        (cv1): Conv(\n",
       "          (conv): Conv2d(1024, 512, kernel_size=(1, 1), stride=(1, 1), bias=False)\n",
       "          (bn): BatchNorm2d(512, eps=0.001, momentum=0.03, affine=True, track_running_stats=True)\n",
       "          (act): SiLU(inplace=True)\n",
       "        )\n",
       "        (cv2): Conv(\n",
       "          (conv): Conv2d(1280, 512, kernel_size=(1, 1), stride=(1, 1), bias=False)\n",
       "          (bn): BatchNorm2d(512, eps=0.001, momentum=0.03, affine=True, track_running_stats=True)\n",
       "          (act): SiLU(inplace=True)\n",
       "        )\n",
       "        (m): ModuleList(\n",
       "          (0-2): 3 x Bottleneck(\n",
       "            (cv1): Conv(\n",
       "              (conv): Conv2d(256, 256, kernel_size=(3, 3), stride=(1, 1), padding=(1, 1), bias=False)\n",
       "              (bn): BatchNorm2d(256, eps=0.001, momentum=0.03, affine=True, track_running_stats=True)\n",
       "              (act): SiLU(inplace=True)\n",
       "            )\n",
       "            (cv2): Conv(\n",
       "              (conv): Conv2d(256, 256, kernel_size=(3, 3), stride=(1, 1), padding=(1, 1), bias=False)\n",
       "              (bn): BatchNorm2d(256, eps=0.001, momentum=0.03, affine=True, track_running_stats=True)\n",
       "              (act): SiLU(inplace=True)\n",
       "            )\n",
       "          )\n",
       "        )\n",
       "      )\n",
       "      (22): Detect(\n",
       "        (cv2): ModuleList(\n",
       "          (0): Sequential(\n",
       "            (0): Conv(\n",
       "              (conv): Conv2d(256, 64, kernel_size=(3, 3), stride=(1, 1), padding=(1, 1), bias=False)\n",
       "              (bn): BatchNorm2d(64, eps=0.001, momentum=0.03, affine=True, track_running_stats=True)\n",
       "              (act): SiLU(inplace=True)\n",
       "            )\n",
       "            (1): Conv(\n",
       "              (conv): Conv2d(64, 64, kernel_size=(3, 3), stride=(1, 1), padding=(1, 1), bias=False)\n",
       "              (bn): BatchNorm2d(64, eps=0.001, momentum=0.03, affine=True, track_running_stats=True)\n",
       "              (act): SiLU(inplace=True)\n",
       "            )\n",
       "            (2): Conv2d(64, 64, kernel_size=(1, 1), stride=(1, 1))\n",
       "          )\n",
       "          (1-2): 2 x Sequential(\n",
       "            (0): Conv(\n",
       "              (conv): Conv2d(512, 64, kernel_size=(3, 3), stride=(1, 1), padding=(1, 1), bias=False)\n",
       "              (bn): BatchNorm2d(64, eps=0.001, momentum=0.03, affine=True, track_running_stats=True)\n",
       "              (act): SiLU(inplace=True)\n",
       "            )\n",
       "            (1): Conv(\n",
       "              (conv): Conv2d(64, 64, kernel_size=(3, 3), stride=(1, 1), padding=(1, 1), bias=False)\n",
       "              (bn): BatchNorm2d(64, eps=0.001, momentum=0.03, affine=True, track_running_stats=True)\n",
       "              (act): SiLU(inplace=True)\n",
       "            )\n",
       "            (2): Conv2d(64, 64, kernel_size=(1, 1), stride=(1, 1))\n",
       "          )\n",
       "        )\n",
       "        (cv3): ModuleList(\n",
       "          (0): Sequential(\n",
       "            (0): Conv(\n",
       "              (conv): Conv2d(256, 256, kernel_size=(3, 3), stride=(1, 1), padding=(1, 1), bias=False)\n",
       "              (bn): BatchNorm2d(256, eps=0.001, momentum=0.03, affine=True, track_running_stats=True)\n",
       "              (act): SiLU(inplace=True)\n",
       "            )\n",
       "            (1): Conv(\n",
       "              (conv): Conv2d(256, 256, kernel_size=(3, 3), stride=(1, 1), padding=(1, 1), bias=False)\n",
       "              (bn): BatchNorm2d(256, eps=0.001, momentum=0.03, affine=True, track_running_stats=True)\n",
       "              (act): SiLU(inplace=True)\n",
       "            )\n",
       "            (2): Conv2d(256, 60, kernel_size=(1, 1), stride=(1, 1))\n",
       "          )\n",
       "          (1-2): 2 x Sequential(\n",
       "            (0): Conv(\n",
       "              (conv): Conv2d(512, 256, kernel_size=(3, 3), stride=(1, 1), padding=(1, 1), bias=False)\n",
       "              (bn): BatchNorm2d(256, eps=0.001, momentum=0.03, affine=True, track_running_stats=True)\n",
       "              (act): SiLU(inplace=True)\n",
       "            )\n",
       "            (1): Conv(\n",
       "              (conv): Conv2d(256, 256, kernel_size=(3, 3), stride=(1, 1), padding=(1, 1), bias=False)\n",
       "              (bn): BatchNorm2d(256, eps=0.001, momentum=0.03, affine=True, track_running_stats=True)\n",
       "              (act): SiLU(inplace=True)\n",
       "            )\n",
       "            (2): Conv2d(256, 60, kernel_size=(1, 1), stride=(1, 1))\n",
       "          )\n",
       "        )\n",
       "        (dfl): DFL(\n",
       "          (conv): Conv2d(16, 1, kernel_size=(1, 1), stride=(1, 1), bias=False)\n",
       "        )\n",
       "      )\n",
       "    )\n",
       "  )\n",
       ")"
      ]
     },
     "execution_count": 5,
     "metadata": {},
     "output_type": "execute_result"
    }
   ],
   "source": [
    "from ultralytics import YOLO\n",
    "model = YOLO('xView\\\\YoloTrainingOutput\\\\train17\\\\weights\\\\best.pt')\n",
    "model"
   ]
  },
  {
   "cell_type": "markdown",
   "id": "60c26589",
   "metadata": {},
   "source": [
    "**HERE ARE OUR CLASSES**"
   ]
  },
  {
   "cell_type": "code",
   "execution_count": 5,
   "id": "e5c39be1-2485-447d-aad6-1cdd7f19e644",
   "metadata": {},
   "outputs": [],
   "source": [
    "'''\n",
    "\n",
    "# Classes\n",
    "names:\n",
    "  0: Fixed-wing Aircraft\n",
    "  1: Small Aircraft\n",
    "  2: Cargo Plane\n",
    "  3: Helicopter\n",
    "  4: Passenger Vehicle\n",
    "  5: Small Car\n",
    "  6: Bus\n",
    "  7: Pickup Truck\n",
    "  8: Utility Truck\n",
    "  9: Truck\n",
    "  10: Cargo Truck\n",
    "  11: Truck w/Box\n",
    "  12: Truck Tractor\n",
    "  13: Trailer\n",
    "  14: Truck w/Flatbed\n",
    "  15: Truck w/Liquid\n",
    "  16: Crane Truck\n",
    "  17: Railway Vehicle\n",
    "  18: Passenger Car\n",
    "  19: Cargo Car\n",
    "  20: Flat Car\n",
    "  21: Tank car\n",
    "  22: Locomotive\n",
    "  23: Maritime Vessel\n",
    "  24: Motorboat\n",
    "  25: Sailboat\n",
    "  26: Tugboat\n",
    "  27: Barge\n",
    "  28: Fishing Vessel\n",
    "  29: Ferry\n",
    "  30: Yacht\n",
    "  31: Container Ship\n",
    "  32: Oil Tanker\n",
    "  33: Engineering Vehicle\n",
    "  34: Tower crane\n",
    "  35: Container Crane\n",
    "  36: Reach Stacker\n",
    "  37: Straddle Carrier\n",
    "  38: Mobile Crane\n",
    "  39: Dump Truck\n",
    "  40: Haul Truck\n",
    "  41: Scraper/Tractor\n",
    "  42: Front loader/Bulldozer\n",
    "  43: Excavator\n",
    "  44: Cement Mixer\n",
    "  45: Ground Grader\n",
    "  46: Hut/Tent\n",
    "  47: Shed\n",
    "  48: Building\n",
    "  49: Aircraft Hangar\n",
    "  50: Damaged Building\n",
    "  51: Facility\n",
    "  52: Construction Site\n",
    "  53: Vehicle Lot\n",
    "  54: Helipad\n",
    "  55: Storage Tank\n",
    "  56: Shipping container lot\n",
    "  57: Shipping Container\n",
    "  58: Pylon\n",
    "  59: Tower\n",
    "\n",
    "'''"
   ]
  }
 ],
 "metadata": {
  "kernelspec": {
   "display_name": "Python 3",
   "language": "python",
   "name": "python3"
  },
  "language_info": {
   "codemirror_mode": {
    "name": "ipython",
    "version": 3
   },
   "file_extension": ".py",
   "mimetype": "text/x-python",
   "name": "python",
   "nbconvert_exporter": "python",
   "pygments_lexer": "ipython3",
   "version": "3.12.2"
  }
 },
 "nbformat": 4,
 "nbformat_minor": 5
}
